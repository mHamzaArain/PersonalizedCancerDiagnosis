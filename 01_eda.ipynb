{
 "cells": [
  {
   "cell_type": "markdown",
   "metadata": {
    "id": "xCjRvTxKOQuR"
   },
   "source": [
    "<p style=\"font-size:36px;text-align:center\"> <b>Personalized cancer diagnosis</b> </p>\n",
    "\n",
    "<h1>Business Problem</h1>\n",
    "<h2>Description</h2>\n",
    "<p> Source: https://www.kaggle.com/c/msk-redefining-cancer-treatment/ </p>\n",
    "\n",
    "*   List item\n",
    "*   List item\n",
    "\n",
    "<p> Data: Memorial Sloan Kettering Cancer Center (MSKCC)</p>\n",
    "<p> Download training_variants.zip and training_text.zip from Kaggle.</p> \n",
    "\n",
    "<h6>Context:</h6>\n",
    "<p> Source: https://www.kaggle.com/c/msk-redefining-cancer-treatment/discussion/35336#198462</p>\n",
    "\n",
    "<h6>Problem statement : </h6>\n",
    "<p> Classify the given genetic variations/mutations based on evidence from text-based clinical literature. </p>\n",
    "\n",
    "<h2>Source/Useful Links</h2>\n",
    "Some articles and reference blogs about the problem statement.\n",
    "1. https://www.forbes.com/sites/matthewherper/2017/06/03/a-new-cancer-drug-helped-almost-everyone-who-took-it-almost-heres-what-it-teaches-us/#2a44ee2f6b25\n",
    "2. https://www.youtube.com/watch?v=UwbuW7oK8rk \n",
    "3. https://www.youtube.com/watch?v=qxXRKVompI8\n",
    "\n",
    "<h2>Real-world/Business objectives and constraints.</h2>\n",
    "* No low-latency requirement.</br>\n",
    "* Interpretability is important.</br>\n",
    "* Errors can be very costly.</br>\n",
    "* Probability of a data-point belonging to each class is needed.</br>\n",
    "\n",
    "<h1>Machine Learning Problem Formulation</h1>\n",
    "<h2>Data</h2>\n",
    "<h3>Data Overview</h3>\n",
    "- Source: https://www.kaggle.com/c/msk-redefining-cancer-treatment/data\n",
    "- We have two data files: one conatins the information about the genetic mutations and the other contains the clinical evidence (text) that  human experts/pathologists use to classify the genetic mutations. </br>\n",
    "- Both these data files are have a common column called ID</br>\n",
    "- <p> \n",
    "    Data file's information:\n",
    "    <ul> \n",
    "        <li>\n",
    "        training_variants (ID , Gene, Variations, Class)\n",
    "        </li>\n",
    "        <li>\n",
    "        training_text (ID, Text)\n",
    "        </li>\n",
    "    </ul>\n",
    "</p>"
   ]
  },
  {
   "cell_type": "markdown",
   "metadata": {
    "id": "t4UYmjTIOQuj"
   },
   "source": [
    "<h3>Example Data Point</h3>\n",
    "\n",
    "<h6>training_variants</h6>\n",
    "<hr>\n",
    "ID,Gene,Variation,Class<br>\n",
    "0,FAM58A,Truncating Mutations,1 <br>\n",
    "1,CBL,W802*,2 <br>\n",
    "2,CBL,Q249E,2 <br>\n",
    "...\n",
    "\n",
    "<h6> training_text</h6>\n",
    "<hr>\n",
    "ID,Text <br>\n",
    "0||Cyclin-dependent kinases (CDKs) regulate a variety of fundamental cellular processes. CDK10 stands out as one of the last orphan CDKs for which no activating cyclin has been identified and no kinase activity revealed. Previous work has shown that CDK10 silencing  ... "
   ]
  },
  {
   "cell_type": "markdown",
   "metadata": {
    "id": "R3_NkUmXOQuk"
   },
   "source": [
    "<h2>Mapping the real-world problem to an ML problem</h2>\n",
    "<h3>Type of Machine Learning Problem</h3>\n",
    "<p>\n",
    "    There are nine different classes a genetic mutation can be classified into => Multi class classification problem\n",
    "</p>\n",
    "<h3>Performance Metric</h3>\n",
    "Source: https://www.kaggle.com/c/msk-redefining-cancer-treatment#evaluation\n",
    "\n",
    "Metric(s): \n",
    "* Multi class log-loss</br>\n",
    "* Confusion matrix</br> \n",
    "\n",
    "<h3>Machine Learing Objectives and Constraints</h3>\n",
    "<p> Objective: Predict the probability of each data-point belonging to each of the nine classes.\n",
    "</p>\n",
    "<p> Constraints:\n",
    "</p>\n",
    "* Interpretability</br>\n",
    "* Class probabilities are needed.</br>\n",
    "* Penalize the errors in class probabilites => Metric is Log-loss.</br>\n",
    "* No Latency constraints.</br>\n",
    "\n",
    "<h2>Train, CV and Test Datasets</h2>\n",
    "Split the dataset randomly into three parts train, cross validation and test with 64%,16%, 20% of data respectively"
   ]
  },
  {
   "cell_type": "markdown",
   "metadata": {
    "id": "j0VVGc0_OQuu"
   },
   "source": [
    "<h1>3. Exploratory Data Analysis</h1>"
   ]
  },
  {
   "cell_type": "code",
   "execution_count": 1,
   "metadata": {
    "id": "6_tz3SlAOQuv"
   },
   "outputs": [],
   "source": [
    "import warnings\n",
    "warnings.filterwarnings(\"ignore\")\n",
    "\n",
    "import pandas as pd\n",
    "import numpy as np\n",
    "from scipy.sparse import hstack\n",
    "\n",
    "import matplotlib.pyplot as plt\n",
    "import seaborn as sns\n",
    "\n",
    "import re\n",
    "import time\n",
    "import math\n",
    "import joblib\n",
    "from collections import Counter, defaultdict\n",
    "\n",
    "from nltk.corpus import stopwords\n",
    "\n",
    "from imblearn.over_sampling import SMOTE\n",
    "\n",
    "from sklearn.decomposition import TruncatedSVD\n",
    "from sklearn.preprocessing import normalize\n",
    "from sklearn.feature_extraction.text import CountVectorizer\n",
    "from sklearn.manifold import TSNE\n",
    "from sklearn.neighbors import KNeighborsClassifier\n",
    "from sklearn.metrics import confusion_matrix, accuracy_score, log_loss, normalized_mutual_info_score\n",
    "from sklearn.feature_extraction.text import TfidfVectorizer\n",
    "from sklearn.linear_model import SGDClassifier\n",
    "from sklearn.multiclass import OneVsRestClassifier\n",
    "from sklearn.svm import SVC\n",
    "from sklearn.model_selection import StratifiedKFold \n",
    "from sklearn.calibration import CalibratedClassifierCV\n",
    "from sklearn.naive_bayes import MultinomialNB\n",
    "from sklearn.naive_bayes import GaussianNB\n",
    "from sklearn.model_selection import train_test_split\n",
    "from sklearn.model_selection import GridSearchCV\n",
    "from sklearn.ensemble import RandomForestClassifier\n",
    "from sklearn import model_selection\n",
    "from sklearn.linear_model import LogisticRegression\n",
    "\n",
    "from mlxtend.classifier import StackingClassifier"
   ]
  },
  {
   "cell_type": "markdown",
   "metadata": {
    "id": "M7AMKFKcOQu1"
   },
   "source": [
    "<h2>Reading Data</h2>\n",
    "<h3>Reading Gene and Variation Data</h3>"
   ]
  },
  {
   "cell_type": "code",
   "execution_count": 2,
   "metadata": {
    "colab": {
     "base_uri": "https://localhost:8080/",
     "height": 254
    },
    "id": "0Os-owW1OQu2",
    "outputId": "eb1d7cc2-f70d-47ad-8097-8505361ba2a2"
   },
   "outputs": [
    {
     "name": "stdout",
     "output_type": "stream",
     "text": [
      "(3321, 4)\n"
     ]
    },
    {
     "data": {
      "text/html": [
       "<div>\n",
       "<style scoped>\n",
       "    .dataframe tbody tr th:only-of-type {\n",
       "        vertical-align: middle;\n",
       "    }\n",
       "\n",
       "    .dataframe tbody tr th {\n",
       "        vertical-align: top;\n",
       "    }\n",
       "\n",
       "    .dataframe thead th {\n",
       "        text-align: right;\n",
       "    }\n",
       "</style>\n",
       "<table border=\"1\" class=\"dataframe\">\n",
       "  <thead>\n",
       "    <tr style=\"text-align: right;\">\n",
       "      <th></th>\n",
       "      <th>ID</th>\n",
       "      <th>Gene</th>\n",
       "      <th>Variation</th>\n",
       "      <th>Class</th>\n",
       "    </tr>\n",
       "  </thead>\n",
       "  <tbody>\n",
       "    <tr>\n",
       "      <th>0</th>\n",
       "      <td>0</td>\n",
       "      <td>FAM58A</td>\n",
       "      <td>Truncating Mutations</td>\n",
       "      <td>1</td>\n",
       "    </tr>\n",
       "    <tr>\n",
       "      <th>1</th>\n",
       "      <td>1</td>\n",
       "      <td>CBL</td>\n",
       "      <td>W802*</td>\n",
       "      <td>2</td>\n",
       "    </tr>\n",
       "    <tr>\n",
       "      <th>2</th>\n",
       "      <td>2</td>\n",
       "      <td>CBL</td>\n",
       "      <td>Q249E</td>\n",
       "      <td>2</td>\n",
       "    </tr>\n",
       "  </tbody>\n",
       "</table>\n",
       "</div>"
      ],
      "text/plain": [
       "   ID    Gene             Variation  Class\n",
       "0   0  FAM58A  Truncating Mutations      1\n",
       "1   1     CBL                 W802*      2\n",
       "2   2     CBL                 Q249E      2"
      ]
     },
     "execution_count": 2,
     "metadata": {},
     "output_type": "execute_result"
    }
   ],
   "source": [
    "data = pd.read_csv('data/training_variants')\n",
    "\n",
    "print(data.shape)\n",
    "data.head(3)"
   ]
  },
  {
   "cell_type": "markdown",
   "metadata": {
    "id": "6VYO0fvbOQu8"
   },
   "source": [
    "<p>\n",
    "    training/training_variants is a comma separated file containing the description of the genetic mutations used for training. <br>\n",
    "    Fields are \n",
    "    <ul>\n",
    "        <li><b>ID : </b>the id of the row used to link the mutation to the clinical evidence</li>\n",
    "        <li><b>Gene : </b>the gene where this genetic mutation is located </li>\n",
    "        <li><b>Variation : </b>the aminoacid change for this mutations </li>\n",
    "        <li><b>Class :</b> 1-9 the class this genetic mutation has been classified on</li>\n",
    "    </ul>"
   ]
  },
  {
   "cell_type": "markdown",
   "metadata": {
    "id": "RPubFke6OQu9"
   },
   "source": [
    "<h3>Reading Text Data</h3>"
   ]
  },
  {
   "cell_type": "code",
   "execution_count": 3,
   "metadata": {
    "colab": {
     "base_uri": "https://localhost:8080/",
     "height": 254
    },
    "id": "1i30WJEyOQu9",
    "outputId": "b371f21f-3d2b-4728-d698-4c216b8e2570"
   },
   "outputs": [
    {
     "name": "stdout",
     "output_type": "stream",
     "text": [
      "(3321, 2)\n"
     ]
    },
    {
     "data": {
      "text/html": [
       "<div>\n",
       "<style scoped>\n",
       "    .dataframe tbody tr th:only-of-type {\n",
       "        vertical-align: middle;\n",
       "    }\n",
       "\n",
       "    .dataframe tbody tr th {\n",
       "        vertical-align: top;\n",
       "    }\n",
       "\n",
       "    .dataframe thead th {\n",
       "        text-align: right;\n",
       "    }\n",
       "</style>\n",
       "<table border=\"1\" class=\"dataframe\">\n",
       "  <thead>\n",
       "    <tr style=\"text-align: right;\">\n",
       "      <th></th>\n",
       "      <th>ID</th>\n",
       "      <th>TEXT</th>\n",
       "    </tr>\n",
       "  </thead>\n",
       "  <tbody>\n",
       "    <tr>\n",
       "      <th>0</th>\n",
       "      <td>0</td>\n",
       "      <td>Cyclin-dependent kinases (CDKs) regulate a var...</td>\n",
       "    </tr>\n",
       "    <tr>\n",
       "      <th>1</th>\n",
       "      <td>1</td>\n",
       "      <td>Abstract Background  Non-small cell lung canc...</td>\n",
       "    </tr>\n",
       "    <tr>\n",
       "      <th>2</th>\n",
       "      <td>2</td>\n",
       "      <td>Abstract Background  Non-small cell lung canc...</td>\n",
       "    </tr>\n",
       "  </tbody>\n",
       "</table>\n",
       "</div>"
      ],
      "text/plain": [
       "   ID                                               TEXT\n",
       "0   0  Cyclin-dependent kinases (CDKs) regulate a var...\n",
       "1   1   Abstract Background  Non-small cell lung canc...\n",
       "2   2   Abstract Background  Non-small cell lung canc..."
      ]
     },
     "execution_count": 3,
     "metadata": {},
     "output_type": "execute_result"
    }
   ],
   "source": [
    "# note the seprator in this file\n",
    "data_text = pd.read_csv(\"data/training_text\",sep=\"\\|\\|\",engine=\"python\",names=[\"ID\",\"TEXT\"],skiprows=1)\n",
    "\n",
    "print(data_text.shape)\n",
    "data_text.head(3)"
   ]
  },
  {
   "cell_type": "markdown",
   "metadata": {
    "id": "ZSy3O7VvOQvC"
   },
   "source": [
    "<h3>Preprocessing of text</h3>"
   ]
  },
  {
   "cell_type": "code",
   "execution_count": 4,
   "metadata": {
    "colab": {
     "base_uri": "https://localhost:8080/"
    },
    "id": "zDWQmo4HScKF",
    "outputId": "279bca53-8f00-4c33-b8b6-96ec7bfad1ea"
   },
   "outputs": [
    {
     "name": "stderr",
     "output_type": "stream",
     "text": [
      "[nltk_data] Downloading package stopwords to\n",
      "[nltk_data]     C:\\Users\\hamza\\AppData\\Roaming\\nltk_data...\n",
      "[nltk_data]   Package stopwords is already up-to-date!\n"
     ]
    },
    {
     "data": {
      "text/plain": [
       "True"
      ]
     },
     "execution_count": 4,
     "metadata": {},
     "output_type": "execute_result"
    }
   ],
   "source": [
    "import nltk\n",
    "nltk.download('stopwords')"
   ]
  },
  {
   "cell_type": "code",
   "execution_count": 5,
   "metadata": {
    "id": "Y9RpP_0QOQvD"
   },
   "outputs": [],
   "source": [
    "# loading stop words from nltk library\n",
    "stop_words = set(stopwords.words('english'))\n",
    "\n",
    "def nlp_preprocessing(total_text, index, column):\n",
    "    if type(total_text) is not int:\n",
    "        string = \"\"\n",
    "        # replace every special char with space\n",
    "        total_text = re.sub('[^a-zA-Z0-9\\n]', ' ', total_text)\n",
    "        # replace multiple spaces with single space\n",
    "        total_text = re.sub('\\s+',' ', total_text)\n",
    "        # converting all the chars into lower-case.\n",
    "        total_text = total_text.lower()\n",
    "        \n",
    "        for word in total_text.split():\n",
    "        # if the word is a not a stop word then retain that word from the data\n",
    "            if not word in stop_words:\n",
    "                string += word + \" \"\n",
    "        \n",
    "        data_text[column][index] = string"
   ]
  },
  {
   "cell_type": "code",
   "execution_count": 6,
   "metadata": {
    "colab": {
     "base_uri": "https://localhost:8080/"
    },
    "id": "lkCyyQm6OQvH",
    "outputId": "2d5fa1bf-742d-4e19-854f-9cb49947703e"
   },
   "outputs": [
    {
     "name": "stdout",
     "output_type": "stream",
     "text": [
      "there is no text description for id: 1109\n",
      "there is no text description for id: 1277\n",
      "there is no text description for id: 1407\n",
      "there is no text description for id: 1639\n",
      "there is no text description for id: 2755\n",
      "Time took for preprocessing the text : 49.21735215187073 seconds\n"
     ]
    }
   ],
   "source": [
    "# text processing stage.\n",
    "start_time = time.time()\n",
    "for index, row in data_text.iterrows():\n",
    "    if type(row['TEXT']) is str:\n",
    "        nlp_preprocessing(row['TEXT'], index, 'TEXT')\n",
    "    else:\n",
    "        print(\"there is no text description for id:\",index)\n",
    "print('Time took for preprocessing the text :',time.time() - start_time, \"seconds\")"
   ]
  },
  {
   "cell_type": "code",
   "execution_count": 7,
   "metadata": {
    "colab": {
     "base_uri": "https://localhost:8080/",
     "height": 202
    },
    "id": "qk8gHyNhOQvL",
    "outputId": "d4fba1b1-bb88-40b0-b314-a364d8272ee1"
   },
   "outputs": [
    {
     "data": {
      "text/html": [
       "<div>\n",
       "<style scoped>\n",
       "    .dataframe tbody tr th:only-of-type {\n",
       "        vertical-align: middle;\n",
       "    }\n",
       "\n",
       "    .dataframe tbody tr th {\n",
       "        vertical-align: top;\n",
       "    }\n",
       "\n",
       "    .dataframe thead th {\n",
       "        text-align: right;\n",
       "    }\n",
       "</style>\n",
       "<table border=\"1\" class=\"dataframe\">\n",
       "  <thead>\n",
       "    <tr style=\"text-align: right;\">\n",
       "      <th></th>\n",
       "      <th>ID</th>\n",
       "      <th>Gene</th>\n",
       "      <th>Variation</th>\n",
       "      <th>Class</th>\n",
       "      <th>TEXT</th>\n",
       "    </tr>\n",
       "  </thead>\n",
       "  <tbody>\n",
       "    <tr>\n",
       "      <th>0</th>\n",
       "      <td>0</td>\n",
       "      <td>FAM58A</td>\n",
       "      <td>Truncating Mutations</td>\n",
       "      <td>1</td>\n",
       "      <td>cyclin dependent kinases cdks regulate variety...</td>\n",
       "    </tr>\n",
       "    <tr>\n",
       "      <th>1</th>\n",
       "      <td>1</td>\n",
       "      <td>CBL</td>\n",
       "      <td>W802*</td>\n",
       "      <td>2</td>\n",
       "      <td>abstract background non small cell lung cancer...</td>\n",
       "    </tr>\n",
       "    <tr>\n",
       "      <th>2</th>\n",
       "      <td>2</td>\n",
       "      <td>CBL</td>\n",
       "      <td>Q249E</td>\n",
       "      <td>2</td>\n",
       "      <td>abstract background non small cell lung cancer...</td>\n",
       "    </tr>\n",
       "  </tbody>\n",
       "</table>\n",
       "</div>"
      ],
      "text/plain": [
       "   ID    Gene             Variation  Class  \\\n",
       "0   0  FAM58A  Truncating Mutations      1   \n",
       "1   1     CBL                 W802*      2   \n",
       "2   2     CBL                 Q249E      2   \n",
       "\n",
       "                                                TEXT  \n",
       "0  cyclin dependent kinases cdks regulate variety...  \n",
       "1  abstract background non small cell lung cancer...  \n",
       "2  abstract background non small cell lung cancer...  "
      ]
     },
     "execution_count": 7,
     "metadata": {},
     "output_type": "execute_result"
    }
   ],
   "source": [
    "# Merging both gene_variations and text data based on ID\n",
    "result = pd.merge(data, data_text, on='ID', how='left')\n",
    "result.head(3)"
   ]
  },
  {
   "cell_type": "code",
   "execution_count": 8,
   "metadata": {
    "colab": {
     "base_uri": "https://localhost:8080/",
     "height": 202
    },
    "id": "z4ITDIVDOQvQ",
    "outputId": "84627608-12e0-45c7-d6ff-d876a47034e6"
   },
   "outputs": [
    {
     "data": {
      "text/html": [
       "<div>\n",
       "<style scoped>\n",
       "    .dataframe tbody tr th:only-of-type {\n",
       "        vertical-align: middle;\n",
       "    }\n",
       "\n",
       "    .dataframe tbody tr th {\n",
       "        vertical-align: top;\n",
       "    }\n",
       "\n",
       "    .dataframe thead th {\n",
       "        text-align: right;\n",
       "    }\n",
       "</style>\n",
       "<table border=\"1\" class=\"dataframe\">\n",
       "  <thead>\n",
       "    <tr style=\"text-align: right;\">\n",
       "      <th></th>\n",
       "      <th>ID</th>\n",
       "      <th>Gene</th>\n",
       "      <th>Variation</th>\n",
       "      <th>Class</th>\n",
       "      <th>TEXT</th>\n",
       "    </tr>\n",
       "  </thead>\n",
       "  <tbody>\n",
       "    <tr>\n",
       "      <th>1109</th>\n",
       "      <td>1109</td>\n",
       "      <td>FANCA</td>\n",
       "      <td>S1088F</td>\n",
       "      <td>1</td>\n",
       "      <td>NaN</td>\n",
       "    </tr>\n",
       "    <tr>\n",
       "      <th>1277</th>\n",
       "      <td>1277</td>\n",
       "      <td>ARID5B</td>\n",
       "      <td>Truncating Mutations</td>\n",
       "      <td>1</td>\n",
       "      <td>NaN</td>\n",
       "    </tr>\n",
       "    <tr>\n",
       "      <th>1407</th>\n",
       "      <td>1407</td>\n",
       "      <td>FGFR3</td>\n",
       "      <td>K508M</td>\n",
       "      <td>6</td>\n",
       "      <td>NaN</td>\n",
       "    </tr>\n",
       "    <tr>\n",
       "      <th>1639</th>\n",
       "      <td>1639</td>\n",
       "      <td>FLT1</td>\n",
       "      <td>Amplification</td>\n",
       "      <td>6</td>\n",
       "      <td>NaN</td>\n",
       "    </tr>\n",
       "    <tr>\n",
       "      <th>2755</th>\n",
       "      <td>2755</td>\n",
       "      <td>BRAF</td>\n",
       "      <td>G596C</td>\n",
       "      <td>7</td>\n",
       "      <td>NaN</td>\n",
       "    </tr>\n",
       "  </tbody>\n",
       "</table>\n",
       "</div>"
      ],
      "text/plain": [
       "        ID    Gene             Variation  Class TEXT\n",
       "1109  1109   FANCA                S1088F      1  NaN\n",
       "1277  1277  ARID5B  Truncating Mutations      1  NaN\n",
       "1407  1407   FGFR3                 K508M      6  NaN\n",
       "1639  1639    FLT1         Amplification      6  NaN\n",
       "2755  2755    BRAF                 G596C      7  NaN"
      ]
     },
     "execution_count": 8,
     "metadata": {},
     "output_type": "execute_result"
    }
   ],
   "source": [
    "result[result.isnull().any(axis=1)]"
   ]
  },
  {
   "cell_type": "code",
   "execution_count": 9,
   "metadata": {
    "id": "co1v4XZ7OQvU"
   },
   "outputs": [
    {
     "data": {
      "text/html": [
       "<div>\n",
       "<style scoped>\n",
       "    .dataframe tbody tr th:only-of-type {\n",
       "        vertical-align: middle;\n",
       "    }\n",
       "\n",
       "    .dataframe tbody tr th {\n",
       "        vertical-align: top;\n",
       "    }\n",
       "\n",
       "    .dataframe thead th {\n",
       "        text-align: right;\n",
       "    }\n",
       "</style>\n",
       "<table border=\"1\" class=\"dataframe\">\n",
       "  <thead>\n",
       "    <tr style=\"text-align: right;\">\n",
       "      <th></th>\n",
       "      <th>ID</th>\n",
       "      <th>Gene</th>\n",
       "      <th>Variation</th>\n",
       "      <th>Class</th>\n",
       "      <th>TEXT</th>\n",
       "    </tr>\n",
       "  </thead>\n",
       "  <tbody>\n",
       "    <tr>\n",
       "      <th>1109</th>\n",
       "      <td>1109</td>\n",
       "      <td>FANCA</td>\n",
       "      <td>S1088F</td>\n",
       "      <td>1</td>\n",
       "      <td>FANCA S1088F</td>\n",
       "    </tr>\n",
       "  </tbody>\n",
       "</table>\n",
       "</div>"
      ],
      "text/plain": [
       "        ID   Gene Variation  Class          TEXT\n",
       "1109  1109  FANCA    S1088F      1  FANCA S1088F"
      ]
     },
     "execution_count": 9,
     "metadata": {},
     "output_type": "execute_result"
    }
   ],
   "source": [
    "# remove nan value in text data\n",
    "result.loc[result['TEXT'].isnull(),'TEXT'] = result['Gene'] + ' ' + result['Variation']\n",
    "\n",
    "result[result['ID'] == 1109]"
   ]
  },
  {
   "cell_type": "code",
   "execution_count": 10,
   "metadata": {},
   "outputs": [
    {
     "data": {
      "text/plain": [
       "['data/01_combined_data.csv']"
      ]
     },
     "execution_count": 10,
     "metadata": {},
     "output_type": "execute_result"
    }
   ],
   "source": [
    "joblib.dump(result, \"data/01_combined_data.csv\")"
   ]
  },
  {
   "cell_type": "markdown",
   "metadata": {},
   "source": [
    "## Analysis"
   ]
  },
  {
   "cell_type": "code",
   "execution_count": 11,
   "metadata": {},
   "outputs": [],
   "source": [
    "data = joblib.load(\"data/01_combined_data.csv\")"
   ]
  },
  {
   "cell_type": "code",
   "execution_count": 12,
   "metadata": {},
   "outputs": [],
   "source": [
    "# Any space replace by '_'\n",
    "data['Gene']      = data['Gene'].str.replace('\\s+', '_')\n",
    "data['Variation'] = data['Variation'].str.replace('\\s+', '_')\n",
    "\n",
    "Y = data['Class'].values\n",
    "X = data\n",
    "x_train, x_test, y_train, y_test = train_test_split(X, Y, stratify=Y, test_size=0.2)\n",
    "x_train, x_cv, y_train, y_cv = train_test_split(x_train, y_train, stratify=y_train, test_size=0.2)"
   ]
  },
  {
   "cell_type": "markdown",
   "metadata": {},
   "source": [
    "<p> We split the data into train, test and cross validation data sets, preserving the ratio of class distribution in the original data set  </p>"
   ]
  },
  {
   "cell_type": "code",
   "execution_count": 47,
   "metadata": {},
   "outputs": [
    {
     "name": "stdout",
     "output_type": "stream",
     "text": [
      "Number of data points in train data: 2124\n",
      "Number of data points in test data: 665\n",
      "Number of data points in cross validation data: 532\n"
     ]
    }
   ],
   "source": [
    "print('Number of data points in train data:', x_train.shape[0])\n",
    "print('Number of data points in test data:', x_test.shape[0])\n",
    "print('Number of data points in cross validation data:', x_cv.shape[0])"
   ]
  },
  {
   "cell_type": "code",
   "execution_count": 13,
   "metadata": {},
   "outputs": [
    {
     "data": {
      "image/png": "[encoded data removed]",
      "text/plain": [
       "<Figure size 432x288 with 1 Axes>"
      ]
     },
     "metadata": {
      "needs_background": "light"
     },
     "output_type": "display_data"
    },
    {
     "name": "stdout",
     "output_type": "stream",
     "text": [
      "Number of data points in class 7 : 609 ( 28.672 %)\n",
      "Number of data points in class 4 : 439 ( 20.669 %)\n",
      "Number of data points in class 1 : 363 ( 17.09 %)\n",
      "Number of data points in class 2 : 289 ( 13.606 %)\n",
      "Number of data points in class 6 : 176 ( 8.286 %)\n",
      "Number of data points in class 5 : 155 ( 7.298 %)\n",
      "Number of data points in class 3 : 57 ( 2.684 %)\n",
      "Number of data points in class 9 : 24 ( 1.13 %)\n",
      "Number of data points in class 8 : 12 ( 0.565 %)\n",
      "--------------------------------------------------------------------------------\n"
     ]
    },
    {
     "data": {
      "image/png": "[encoded data removed]",
      "text/plain": [
       "<Figure size 432x288 with 1 Axes>"
      ]
     },
     "metadata": {
      "needs_background": "light"
     },
     "output_type": "display_data"
    },
    {
     "name": "stdout",
     "output_type": "stream",
     "text": [
      "Number of data points in class 7 : 191 ( 28.722 %)\n",
      "Number of data points in class 4 : 137 ( 20.602 %)\n",
      "Number of data points in class 1 : 114 ( 17.143 %)\n",
      "Number of data points in class 2 : 91 ( 13.684 %)\n",
      "Number of data points in class 6 : 55 ( 8.271 %)\n",
      "Number of data points in class 5 : 48 ( 7.218 %)\n",
      "Number of data points in class 3 : 18 ( 2.707 %)\n",
      "Number of data points in class 9 : 7 ( 1.053 %)\n",
      "Number of data points in class 8 : 4 ( 0.602 %)\n",
      "--------------------------------------------------------------------------------\n"
     ]
    },
    {
     "data": {
      "image/png": "[encoded data removed]",
      "text/plain": [
       "<Figure size 432x288 with 1 Axes>"
      ]
     },
     "metadata": {
      "needs_background": "light"
     },
     "output_type": "display_data"
    },
    {
     "name": "stdout",
     "output_type": "stream",
     "text": [
      "Number of data points in class 7 : 153 ( 28.759 %)\n",
      "Number of data points in class 4 : 110 ( 20.677 %)\n",
      "Number of data points in class 1 : 91 ( 17.105 %)\n",
      "Number of data points in class 2 : 72 ( 13.534 %)\n",
      "Number of data points in class 6 : 44 ( 8.271 %)\n",
      "Number of data points in class 5 : 39 ( 7.331 %)\n",
      "Number of data points in class 3 : 14 ( 2.632 %)\n",
      "Number of data points in class 9 : 6 ( 1.128 %)\n",
      "Number of data points in class 8 : 3 ( 0.564 %)\n",
      "--------------------------------------------------------------------------------\n"
     ]
    }
   ],
   "source": [
    "def display_distribution(class_distribution, split_data_type, data_shape):\n",
    "    my_colors = 'rgbkymc'\n",
    "    train_class_distribution.plot(kind='bar')\n",
    "    plt.xlabel('Class')\n",
    "    plt.ylabel('Data points per Class')\n",
    "    plt.title(f'Distribution of yi in {split_data_type} data')\n",
    "    plt.grid()\n",
    "    plt.show()\n",
    "    \n",
    "    # ref: argsort https://docs.scipy.org/doc/numpy/reference/generated/numpy.argsort.html\n",
    "    # -(class_distribution.values): the minus sign will give us in decreasing order\n",
    "    sorted_yi = np.argsort(-class_distribution.values)\n",
    "    for i in sorted_yi:\n",
    "        print('Number of data points in class', i+1, ':',class_distribution.values[i], '(', np.round((class_distribution.values[i]/data_shape*100), 3), '%)')\n",
    "\n",
    "    print('-'*80)\n",
    "\n",
    "##########################################################    \n",
    "##########################################################\n",
    "\n",
    "# It returns a dict, keys as class labels and values as the number of data points in that class\n",
    "train_class_distribution = x_train['Class'].value_counts().sort_index()\n",
    "display_distribution(class_distribution=train_class_distribution, split_data_type=\"train\", data_shape=x_train.shape[0])\n",
    "\n",
    "test_class_distribution = x_test['Class'].value_counts().sort_index()\n",
    "display_distribution(class_distribution=test_class_distribution, split_data_type=\"test\", data_shape=x_test.shape[0])\n",
    "\n",
    "cv_class_distribution = x_cv['Class'].value_counts().sort_index()\n",
    "display_distribution(class_distribution=cv_class_distribution, split_data_type=\"cv\", data_shape=x_cv.shape[0])"
   ]
  },
  {
   "cell_type": "code",
   "execution_count": 14,
   "metadata": {},
   "outputs": [],
   "source": [
    "# This function plots the confusion matrices given y_i, y_i_hat.\n",
    "def plot_confusion_matrix(test_y, predict_y):\n",
    "    C = confusion_matrix(test_y, predict_y)\n",
    "    # C = 9,9 matrix, each cell (i,j) represents number of points of class i are predicted class j\n",
    "    \n",
    "    A =(((C.T)/(C.sum(axis=1))).T)\n",
    "    #divid each element of the confusion matrix with the sum of elements in that column\n",
    "    \n",
    "    # C = [[1, 2],\n",
    "    #     [3, 4]]\n",
    "    # C.T = [[1, 3],\n",
    "    #        [2, 4]]\n",
    "    # C.sum(axis = 1)  axis=0 corresonds to columns and axis=1 corresponds to rows in two diamensional array\n",
    "    # C.sum(axix =1) = [[3, 7]]\n",
    "    # ((C.T)/(C.sum(axis=1))) = [[1/3, 3/7]\n",
    "    #                           [2/3, 4/7]]\n",
    "\n",
    "    # ((C.T)/(C.sum(axis=1))).T = [[1/3, 2/3]\n",
    "    #                           [3/7, 4/7]]\n",
    "    # sum of row elements = 1\n",
    "    \n",
    "    B =(C/C.sum(axis=0))\n",
    "    #divid each element of the confusion matrix with the sum of elements in that row\n",
    "    # C = [[1, 2],\n",
    "    #     [3, 4]]\n",
    "    # C.sum(axis = 0)  axis=0 corresonds to columns and axis=1 corresponds to rows in two diamensional array\n",
    "    # C.sum(axix =0) = [[4, 6]]\n",
    "    # (C/C.sum(axis=0)) = [[1/4, 2/6],\n",
    "    #                      [3/4, 4/6]] \n",
    "    \n",
    "    labels = [1,2,3,4,5,6,7,8,9]\n",
    "    # representing A in heatmap format\n",
    "    print(\"-\"*20, \"Confusion matrix\", \"-\"*20)\n",
    "    plt.figure(figsize=(20,7))\n",
    "    sns.heatmap(C, annot=True, cmap=\"YlGnBu\", fmt=\".3f\", xticklabels=labels, yticklabels=labels)\n",
    "    plt.xlabel('Predicted Class')\n",
    "    plt.ylabel('Original Class')\n",
    "    plt.show()\n",
    "\n",
    "    print(\"-\"*20, \"Precision matrix (Columm Sum=1)\", \"-\"*20)\n",
    "    plt.figure(figsize=(20,7))\n",
    "    sns.heatmap(B, annot=True, cmap=\"YlGnBu\", fmt=\".3f\", xticklabels=labels, yticklabels=labels)\n",
    "    plt.xlabel('Predicted Class')\n",
    "    plt.ylabel('Original Class')\n",
    "    plt.show()\n",
    "    \n",
    "    # representing B in heatmap format\n",
    "    print(\"-\"*20, \"Recall matrix (Row sum=1)\", \"-\"*20)\n",
    "    plt.figure(figsize=(20,7))\n",
    "    sns.heatmap(A, annot=True, cmap=\"YlGnBu\", fmt=\".3f\", xticklabels=labels, yticklabels=labels)\n",
    "    plt.xlabel('Predicted Class')\n",
    "    plt.ylabel('Original Class')\n",
    "    plt.show()"
   ]
  },
  {
   "cell_type": "markdown",
   "metadata": {},
   "source": [
    "<h2>Prediction using a 'Random' Model</h2>\n",
    "<p style=\"font-size:16px\"> In a 'Random' Model, we generate the NINE class probabilites randomly such that they sum to 1. </p>"
   ]
  },
  {
   "cell_type": "code",
   "execution_count": 15,
   "metadata": {},
   "outputs": [
    {
     "name": "stdout",
     "output_type": "stream",
     "text": [
      "Log loss on CV Data using Random Model 2.481684235642478\n",
      "Log loss on test Data using Random Model 2.4673446852384124\n",
      "-------------------- Confusion matrix --------------------\n"
     ]
    },
    {
     "data": {
      "image/png": "[encoded data removed]",
      "text/plain": [
       "<Figure size 1440x504 with 2 Axes>"
      ]
     },
     "metadata": {
      "needs_background": "light"
     },
     "output_type": "display_data"
    },
    {
     "name": "stdout",
     "output_type": "stream",
     "text": [
      "-------------------- Precision matrix (Columm Sum=1) --------------------\n"
     ]
    },
    {
     "data": {
      "image/png": "[encoded data removed]",
      "text/plain": [
       "<Figure size 1440x504 with 2 Axes>"
      ]
     },
     "metadata": {
      "needs_background": "light"
     },
     "output_type": "display_data"
    },
    {
     "name": "stdout",
     "output_type": "stream",
     "text": [
      "-------------------- Recall matrix (Row sum=1) --------------------\n"
     ]
    },
    {
     "data": {
      "image/png": "[encoded data removed]",
      "text/plain": [
       "<Figure size 1440x504 with 2 Axes>"
      ]
     },
     "metadata": {
      "needs_background": "light"
     },
     "output_type": "display_data"
    }
   ],
   "source": [
    "def random_model_test(split_data_type, df_splitted, test_data):\n",
    "    # we need to generate 9 numbers and the sum of numbers should be 1\n",
    "    # one solution is to genarate 9 numbers and divide each of the numbers by their sum\n",
    "    # ref: https://stackoverflow.com/a/18662466/4084039\n",
    "    data_len = df_splitted.shape[0]\n",
    "    \n",
    "    # we create a output array that has exactly same size as the data\n",
    "    predicted_y = np.zeros((data_len,9))\n",
    "    for i in range(data_len):\n",
    "        rand_probs = np.random.rand(1, 9)\n",
    "        predicted_y[i] = ((rand_probs/sum(sum(rand_probs)))[0])\n",
    "    print(f\"Log loss on {split_data_type} Data using Random Model\", log_loss(test_data, predicted_y, eps=1e-15))\n",
    "    \n",
    "    if split_data_type == \"test\":\n",
    "        predicted_y = np.argmax(predicted_y, axis=1)\n",
    "        plot_confusion_matrix(test_data, predicted_y+1)\n",
    "    \n",
    "############################################\n",
    "############################################\n",
    "random_model_test(split_data_type=\"CV\", df_splitted=x_cv, test_data=y_cv)\n",
    "random_model_test(split_data_type=\"test\", df_splitted=x_test, test_data=y_test)"
   ]
  },
  {
   "cell_type": "markdown",
   "metadata": {},
   "source": [
    "#### CONCLUSION\n",
    "Log loss on randon model = (2.437 CV) to (2.472 test)\n",
    "\n",
    "Since, log-loss= [0, inf)</br>\n",
    "thus, best model should give log-loss less than 2.437 atleast."
   ]
  },
  {
   "cell_type": "markdown",
   "metadata": {},
   "source": [
    "<h2>Univariate Analysis</h2>"
   ]
  },
  {
   "cell_type": "code",
   "execution_count": 16,
   "metadata": {
    "id": "glsAAhozOQv3"
   },
   "outputs": [],
   "source": [
    "# Code for Laplace smoothing.\n",
    "# alpha/lambda : used for laplace smoothing\n",
    "# feature: ['gene', 'variation']\n",
    "# df: ['train_df', 'test_df', 'cv_df']\n",
    "\n",
    "# algorithm\n",
    "# ----------\n",
    "# Consider all unique values and the number of occurances of given feature in train data dataframe\n",
    "# build a vector (1*9) , the first element = (number of times it occured in class1 + 10*alpha / number of time it occurred in total data+90*alpha)\n",
    "# gv_dict is like a look up table, for every gene it store a (1*9) representation of it\n",
    "# for a value of feature in df:\n",
    "# if it is in train data:\n",
    "# we add the vector that was stored in 'gv_dict' look up table to 'gv_fea'\n",
    "# if it is not there is train:\n",
    "# we add [1/9, 1/9, 1/9, 1/9,1/9, 1/9, 1/9, 1/9, 1/9] to 'gv_fea'\n",
    "# return 'gv_fea'\n",
    "# ----------------------\n",
    "\n",
    "def get_gene_variation_features_dict(alpha, feature, df):\n",
    "    \"\"\"get_gv_fea_dict: Get gene varaition feature dict\"\"\"\n",
    "    # value_count: it contains a dict like\n",
    "    # print(train_df['Gene'].value_counts())\n",
    "    # output:\n",
    "    #        {BRCA1      174\n",
    "    #         TP53       106\n",
    "    #         EGFR        86\n",
    "    #         BRCA2       75\n",
    "    #         PTEN        69\n",
    "    #         KIT         61\n",
    "    #         BRAF        60\n",
    "    #         ERBB2       47\n",
    "    #         PDGFRA      46\n",
    "    #         ...}\n",
    "    # print(train_df['Variation'].value_counts())\n",
    "    # output:\n",
    "    # {\n",
    "    # Truncating_Mutations                     63\n",
    "    # Deletion                                 43\n",
    "    # Amplification                            43\n",
    "    # Fusions                                  22\n",
    "    # Overexpression                            3\n",
    "    # E17K                                      3\n",
    "    # Q61L                                      3\n",
    "    # S222D                                     2\n",
    "    # P130S                                     2\n",
    "    # ...\n",
    "    # }\n",
    "    value_count = x_train[feature].value_counts()\n",
    "    \n",
    "    # gv_dict : Gene Variation Dict, which contains the probability array for each gene/variation\n",
    "    gv_dict = dict()\n",
    "    \n",
    "    # denominator will contain the number of time that particular feature occured in whole data\n",
    "    for i, denominator in value_count.items():\n",
    "        # vec will contain (p(yi==1/Gi) probability of gene/variation belongs to perticular class\n",
    "        # vec is 9 diamensional vector\n",
    "        vec = []\n",
    "        for k in range(1,10):\n",
    "            # print(train_df.loc[(x_train['Class']==1) & (x_train['Gene']=='BRCA1')])\n",
    "            #         ID   Gene             Variation  Class  \n",
    "            # 2470  2470  BRCA1                S1715C      1   \n",
    "            # 2486  2486  BRCA1                S1841R      1   \n",
    "            # 2614  2614  BRCA1                   M1R      1   \n",
    "            # 2432  2432  BRCA1                L1657P      1   \n",
    "            # 2567  2567  BRCA1                T1685A      1   \n",
    "            # 2583  2583  BRCA1                E1660G      1   \n",
    "            # 2634  2634  BRCA1                W1718L      1   \n",
    "            # cls_cnt.shape[0] will return the number of rows\n",
    "\n",
    "            cls_cnt = x_train.loc[(x_train['Class']==k) & (x_train[feature]==i)]\n",
    "            \n",
    "            # cls_cnt.shape[0](numerator) will contain the number of time that particular feature occured in whole data\n",
    "            vec.append((cls_cnt.shape[0] + alpha*10)/ (denominator + 90*alpha))\n",
    "\n",
    "        # we are adding the gene/variation to the dict as key and vec as value\n",
    "        gv_dict[i]=vec\n",
    "    return gv_dict\n",
    "\n",
    "# Get Gene variation feature\n",
    "def get_gene_variation_feature(alpha, feature, df):\n",
    "    # print(gv_dict)\n",
    "    #     {'BRCA1': [0.20075757575757575, 0.03787878787878788, 0.068181818181818177, 0.13636363636363635, 0.25, 0.19318181818181818, 0.03787878787878788, 0.03787878787878788, 0.03787878787878788], \n",
    "    #      'TP53': [0.32142857142857145, 0.061224489795918366, 0.061224489795918366, 0.27040816326530615, 0.061224489795918366, 0.066326530612244902, 0.051020408163265307, 0.051020408163265307, 0.056122448979591837], \n",
    "    #      'EGFR': [0.056818181818181816, 0.21590909090909091, 0.0625, 0.068181818181818177, 0.068181818181818177, 0.0625, 0.34659090909090912, 0.0625, 0.056818181818181816], \n",
    "    #      'BRCA2': [0.13333333333333333, 0.060606060606060608, 0.060606060606060608, 0.078787878787878782, 0.1393939393939394, 0.34545454545454546, 0.060606060606060608, 0.060606060606060608, 0.060606060606060608], \n",
    "    #      'PTEN': [0.069182389937106917, 0.062893081761006289, 0.069182389937106917, 0.46540880503144655, 0.075471698113207544, 0.062893081761006289, 0.069182389937106917, 0.062893081761006289, 0.062893081761006289], \n",
    "    #      'KIT': [0.066225165562913912, 0.25165562913907286, 0.072847682119205295, 0.072847682119205295, 0.066225165562913912, 0.066225165562913912, 0.27152317880794702, 0.066225165562913912, 0.066225165562913912], \n",
    "    #      'BRAF': [0.066666666666666666, 0.17999999999999999, 0.073333333333333334, 0.073333333333333334, 0.093333333333333338, 0.080000000000000002, 0.29999999999999999, 0.066666666666666666, 0.066666666666666666],\n",
    "    #      ...\n",
    "    #     }\n",
    "    gv_dict = get_gene_variation_features_dict(alpha, feature, df)\n",
    "    # value_count is similar in get_gv_fea_dict\n",
    "    value_count = x_train[feature].value_counts()\n",
    "    \n",
    "    # gv_fea: Gene_variation feature, it will contain the feature for each feature value in the data\n",
    "    gv_fea = []\n",
    "    # for every feature values in the given data frame we will check if it is there in the train data then we will add the feature to gv_fea\n",
    "    # if not we will add [1/9,1/9,1/9,1/9,1/9,1/9,1/9,1/9,1/9] to gv_fea\n",
    "    for index, row in df.iterrows():\n",
    "        if row[feature] in dict(value_count).keys():\n",
    "            gv_fea.append(gv_dict[row[feature]])\n",
    "        else:\n",
    "            gv_fea.append([1/9,1/9,1/9,1/9,1/9,1/9,1/9,1/9,1/9])\n",
    "#             gv_fea.append([-1,-1,-1,-1,-1,-1,-1,-1,-1])\n",
    "    return gv_fea"
   ]
  },
  {
   "cell_type": "markdown",
   "metadata": {
    "id": "ShBOxDTyOQv5"
   },
   "source": [
    "When we caculate the probability of a feature belongs to any particular class, we apply laplace smoothing\n",
    "<li>(numerator + 10\\*alpha) / (denominator + 90\\*alpha) </li>"
   ]
  },
  {
   "cell_type": "markdown",
   "metadata": {
    "id": "Burwv7NcOQv6"
   },
   "source": [
    "<h3>Univariate Analysis on Gene Feature</h3>"
   ]
  },
  {
   "cell_type": "markdown",
   "metadata": {
    "id": "xvrxgsHNOQv7"
   },
   "source": [
    "<p style=\"font-size:18px;\"> <b>Q1.</b> Gene, What type of feature it is ?</p>\n",
    "<p style=\"font-size:16px;\"><b>Ans.</b> Gene is a categorical variable </p>\n",
    "<p style=\"font-size:18px;\"> <b>Q2.</b> How many categories are there and How they are distributed?</p>"
   ]
  },
  {
   "cell_type": "code",
   "execution_count": 17,
   "metadata": {
    "colab": {
     "base_uri": "https://localhost:8080/"
    },
    "id": "r4VErpbnOQv8",
    "outputId": "6b1294f9-b7b6-4808-bd13-3fd99e511350"
   },
   "outputs": [
    {
     "name": "stdout",
     "output_type": "stream",
     "text": [
      "Number of Unique Genes : 264\n",
      "BRCA1     264\n",
      "TP53      163\n",
      "EGFR      141\n",
      "PTEN      126\n",
      "BRCA2     125\n",
      "KIT        99\n",
      "BRAF       93\n",
      "ERBB2      69\n",
      "ALK        69\n",
      "PDGFRA     60\n",
      "Name: Gene, dtype: int64\n"
     ]
    }
   ],
   "source": [
    "unique_genes = X['Gene'].value_counts()\n",
    "print('Number of Unique Genes :', unique_genes.shape[0])\n",
    "# the top 10 genes that occured most\n",
    "print(unique_genes.head(10))"
   ]
  },
  {
   "cell_type": "code",
   "execution_count": 18,
   "metadata": {
    "colab": {
     "base_uri": "https://localhost:8080/",
     "height": 278
    },
    "id": "94tkkWJFOQwK",
    "outputId": "006050ac-db88-491c-f4e9-91fa42595618"
   },
   "outputs": [
    {
     "data": {
      "image/png": "[encoded data removed]",
      "text/plain": [
       "<Figure size 432x288 with 1 Axes>"
      ]
     },
     "metadata": {
      "needs_background": "light"
     },
     "output_type": "display_data"
    }
   ],
   "source": [
    "# Histogram on gens vs occurances\n",
    "\n",
    "s = sum(unique_genes.values);\n",
    "h = unique_genes.values/s;\n",
    "plt.plot(h, label=\"Histrogram of Genes\")\n",
    "plt.xlabel('Index of a Gene')\n",
    "plt.ylabel('Number of Occurances')\n",
    "plt.legend()\n",
    "plt.grid()\n",
    "plt.show()"
   ]
  },
  {
   "cell_type": "markdown",
   "metadata": {},
   "source": [
    "#### CONCLUSION\n",
    "1. One of the gene has occurance of 8%.\n",
    "2. Few gene have high as well as low frequency."
   ]
  },
  {
   "cell_type": "code",
   "execution_count": 19,
   "metadata": {
    "colab": {
     "base_uri": "https://localhost:8080/",
     "height": 265
    },
    "id": "GSYysPfLOQwP",
    "outputId": "6e94295c-4c49-4cac-bb5b-dd8127c5693b"
   },
   "outputs": [
    {
     "data": {
      "image/png": "[encoded data removed]",
      "text/plain": [
       "<Figure size 432x288 with 1 Axes>"
      ]
     },
     "metadata": {
      "needs_background": "light"
     },
     "output_type": "display_data"
    }
   ],
   "source": [
    "# Cummulative ratio of gene\n",
    "\n",
    "c = np.cumsum(h)\n",
    "plt.plot(c,label='Cumulative distribution of Genes')\n",
    "plt.grid()\n",
    "plt.legend()\n",
    "plt.show()"
   ]
  },
  {
   "cell_type": "markdown",
   "metadata": {},
   "source": [
    "#### CONCLUSION\n",
    "1. 60 to 65 genes haves 80% ratio while rest of 20% has remaining genes."
   ]
  },
  {
   "cell_type": "markdown",
   "metadata": {
    "id": "KA0msTHPOQwT"
   },
   "source": [
    "<p style=\"font-size:18px;\"> <b>Q3.</b> How to featurize this Gene feature ?</p>\n",
    "\n",
    "<p style=\"font-size:16px;\"><b>Ans.</b> As gene feature is cardinal, therefore; there are two ways we can featurize this variable\n",
    "check out this video: https://www.appliedaicourse.com/course/applied-ai-course-online/lessons/handling-categorical-and-numerical-features/\n",
    "<ol><li>One hot Encoding (Distance related algo i.e; log reg, lr-svm, knn, etc)</li><li>Response coding (non-linear model i.e; Tree algos, kernel-svm, etc)</li></ol></p>\n",
    "<p> We will choose the appropriate featurization based on the ML model we use.  For this problem of multi-class classification with categorical features, one-hot encoding is better for Logistic regression while response coding is better for Random Forests. </p>"
   ]
  },
  {
   "cell_type": "markdown",
   "metadata": {},
   "source": [
    "### Response coding"
   ]
  },
  {
   "cell_type": "code",
   "execution_count": 20,
   "metadata": {
    "id": "TcsbuDqcOQwU"
   },
   "outputs": [
    {
     "name": "stdout",
     "output_type": "stream",
     "text": [
      "train_gene_feature_responseCoding is converted feature using respone coding method.\n",
      " The shape of gene feature: (2124, 9)\n"
     ]
    }
   ],
   "source": [
    "#response-coding of the Gene feature\n",
    "# alpha is used for laplace smoothing\n",
    "alpha = 1\n",
    "# train gene feature\n",
    "train_gene_feature_responseCoding = np.array(get_gene_variation_feature(alpha, \"Gene\", x_train))\n",
    "# test gene feature\n",
    "test_gene_feature_responseCoding = np.array(get_gene_variation_feature(alpha, \"Gene\", x_test))\n",
    "# cross validation gene feature\n",
    "cv_gene_feature_responseCoding = np.array(get_gene_variation_feature(alpha, \"Gene\", x_cv))\n",
    "\n",
    "## Ans\n",
    "print(\"train_gene_feature_responseCoding is converted feature using respone coding method.\\n The shape of gene feature:\", train_gene_feature_responseCoding.shape)"
   ]
  },
  {
   "cell_type": "markdown",
   "metadata": {},
   "source": [
    "### One-hotcode encoding"
   ]
  },
  {
   "cell_type": "code",
   "execution_count": 21,
   "metadata": {
    "id": "7TiLWR3LOQwq"
   },
   "outputs": [
    {
     "data": {
      "text/plain": [
       "398       TP53\n",
       "1343      AKT1\n",
       "1678      FLT3\n",
       "1680      FLT3\n",
       "3093    NOTCH1\n",
       "Name: Gene, dtype: object"
      ]
     },
     "execution_count": 21,
     "metadata": {},
     "output_type": "execute_result"
    }
   ],
   "source": [
    "# one-hot encoding of Gene feature.\n",
    "gene_vectorizer = CountVectorizer()\n",
    "train_gene_feature_onehotCoding = gene_vectorizer.fit_transform(x_train['Gene'])\n",
    "test_gene_feature_onehotCoding = gene_vectorizer.transform(x_test['Gene'])\n",
    "cv_gene_feature_onehotCoding = gene_vectorizer.transform(x_cv['Gene'])\n",
    "\n",
    "x_train['Gene'].head()"
   ]
  },
  {
   "cell_type": "code",
   "execution_count": 22,
   "metadata": {
    "colab": {
     "base_uri": "https://localhost:8080/"
    },
    "id": "7aohGapoOQwx",
    "outputId": "b0fe14c2-e8ae-4f4c-9a86-6e069b8481a2"
   },
   "outputs": [
    {
     "name": "stdout",
     "output_type": "stream",
     "text": [
      "['abl1', 'acvr1', 'ago2', 'akt1', 'akt2', 'akt3', 'alk', 'apc', 'ar', 'araf']\n",
      "train_gene_feature_onehotCoding is converted feature using one-hot encoding method. The shape of gene feature: (2124, 232)\n"
     ]
    }
   ],
   "source": [
    "print(gene_vectorizer.get_feature_names()[:10])\n",
    "\n",
    "## Ans\n",
    "print(\"train_gene_feature_onehotCoding is converted feature using one-hot encoding method. The shape of gene feature:\", train_gene_feature_onehotCoding.shape)"
   ]
  },
  {
   "cell_type": "markdown",
   "metadata": {
    "id": "dKDkc6TeOQw-"
   },
   "source": [
    "<p style=\"font-size:18px;\"> <b>Q4.</b> How good is this gene feature  in predicting y_i?</p>"
   ]
  },
  {
   "cell_type": "markdown",
   "metadata": {
    "id": "vJ-891DNOQw_"
   },
   "source": [
    "There are many ways to estimate how good a feature is, in predicting y_i. One of the good methods is to build a proper ML model using just this feature. In this case, we will build a logistic regression model using only Gene feature (one hot encoded) to predict y_i."
   ]
  },
  {
   "cell_type": "code",
   "execution_count": 23,
   "metadata": {
    "colab": {
     "base_uri": "https://localhost:8080/",
     "height": 450
    },
    "id": "3lcCW-oEOQxA",
    "outputId": "e8bd33ba-48b7-45fe-a1e3-053ca907fc77"
   },
   "outputs": [
    {
     "name": "stdout",
     "output_type": "stream",
     "text": [
      "For values of alpha =  1e-05 The log loss is: 1.2286389861239067\n",
      "For values of alpha =  0.0001 The log loss is: 1.2121253232733085\n",
      "For values of alpha =  0.001 The log loss is: 1.2464972959796972\n",
      "For values of alpha =  0.01 The log loss is: 1.3682983192404539\n",
      "For values of alpha =  0.1 The log loss is: 1.4736771676572242\n",
      "For values of alpha =  1 The log loss is: 1.5114913448968228\n"
     ]
    },
    {
     "data": {
      "image/png": "[encoded data removed]",
      "text/plain": [
       "<Figure size 432x288 with 1 Axes>"
      ]
     },
     "metadata": {
      "needs_background": "light"
     },
     "output_type": "display_data"
    },
    {
     "name": "stdout",
     "output_type": "stream",
     "text": [
      "For values of best alpha =  0.0001 The train log loss is: 0.9918115756450787\n",
      "For values of best alpha =  0.0001 The cross validation log loss is: 1.2121253232733085\n",
      "For values of best alpha =  0.0001 The test log loss is: 1.1894997389839832\n"
     ]
    }
   ],
   "source": [
    "alpha = [10 ** x for x in range(-5, 1)] # hyperparam for SGD classifier.\n",
    "\n",
    "# read more about SGDClassifier() at http://scikit-learn.org/stable/modules/generated/sklearn.linear_model.SGDClassifier.html\n",
    "# ------------------------------\n",
    "# default parameters\n",
    "# SGDClassifier(loss=’hinge’, penalty=’l2’, alpha=0.0001, l1_ratio=0.15, fit_intercept=True, max_iter=None, tol=None, \n",
    "# shuffle=True, verbose=0, epsilon=0.1, n_jobs=1, random_state=None, learning_rate=’optimal’, eta0=0.0, power_t=0.5, \n",
    "# class_weight=None, warm_start=False, average=False, n_iter=None)\n",
    "\n",
    "# some of methods\n",
    "# fit(X, y[, coef_init, intercept_init, …])\tFit linear model with Stochastic Gradient Descent.\n",
    "# predict(X)\tPredict class labels for samples in X.\n",
    "\n",
    "#-------------------------------\n",
    "# video link: \n",
    "#------------------------------\n",
    "\n",
    "# Logistic regression\n",
    "\n",
    "cv_log_error_array=[]\n",
    "for i in alpha:\n",
    "    clf = SGDClassifier(alpha=i, penalty='l2', loss='log', random_state=42)\n",
    "    clf.fit(train_gene_feature_onehotCoding, y_train)\n",
    "    sig_clf = CalibratedClassifierCV(clf, method=\"sigmoid\")\n",
    "    sig_clf.fit(train_gene_feature_onehotCoding, y_train)\n",
    "    predict_y = sig_clf.predict_proba(cv_gene_feature_onehotCoding)\n",
    "    cv_log_error_array.append(log_loss(y_cv, predict_y, labels=clf.classes_, eps=1e-15))\n",
    "    print('For values of alpha = ', i, \"The log loss is:\",log_loss(y_cv, predict_y, labels=clf.classes_, eps=1e-15))\n",
    "\n",
    "fig, ax = plt.subplots()\n",
    "ax.plot(alpha, cv_log_error_array,c='g')\n",
    "for i, txt in enumerate(np.round(cv_log_error_array,3)):\n",
    "    ax.annotate((alpha[i],np.round(txt,3)), (alpha[i],cv_log_error_array[i]))\n",
    "plt.grid()\n",
    "plt.title(\"Cross Validation Error for each alpha\")\n",
    "plt.xlabel(\"Alpha i's\")\n",
    "plt.ylabel(\"Error measure\")\n",
    "plt.show()\n",
    "\n",
    "best_alpha = np.argmin(cv_log_error_array)\n",
    "clf = SGDClassifier(alpha=alpha[best_alpha], penalty='l2', loss='log', random_state=42)\n",
    "clf.fit(train_gene_feature_onehotCoding, y_train)\n",
    "sig_clf = CalibratedClassifierCV(clf, method=\"sigmoid\")\n",
    "sig_clf.fit(train_gene_feature_onehotCoding, y_train)\n",
    "\n",
    "predict_y = sig_clf.predict_proba(train_gene_feature_onehotCoding)\n",
    "print('For values of best alpha = ', alpha[best_alpha], \"The train log loss is:\",log_loss(y_train, predict_y, labels=clf.classes_, eps=1e-15))\n",
    "predict_y = sig_clf.predict_proba(cv_gene_feature_onehotCoding)\n",
    "print('For values of best alpha = ', alpha[best_alpha], \"The cross validation log loss is:\",log_loss(y_cv, predict_y, labels=clf.classes_, eps=1e-15))\n",
    "predict_y = sig_clf.predict_proba(test_gene_feature_onehotCoding)\n",
    "print('For values of best alpha = ', alpha[best_alpha], \"The test log loss is:\",log_loss(y_test, predict_y, labels=clf.classes_, eps=1e-15))\n"
   ]
  },
  {
   "cell_type": "markdown",
   "metadata": {
    "id": "AZjuFgxwOQxE"
   },
   "source": [
    "<p style=\"font-size:18px;\"> <b>Q5.</b> Is the Gene feature stable across all the data sets (Test, Train, Cross validation)?</p>\n",
    "<p style=\"font-size:16px;\"> <b>Ans.</b> Yes, it is. Otherwise, the CV and Test errors would be significantly more than train error. </p>"
   ]
  },
  {
   "cell_type": "markdown",
   "metadata": {},
   "source": [
    "<p style=\"font-size:18px;\"> <b>Q6.</b>How many data points in Test and CV datasets are covered by the genes in train dataset?\n",
    "</p>"
   ]
  },
  {
   "cell_type": "code",
   "execution_count": 24,
   "metadata": {
    "colab": {
     "base_uri": "https://localhost:8080/"
    },
    "id": "PjY8VwyuOQxK",
    "outputId": "ed2b3503-1c28-4e8f-8c71-f9e9ea04a057"
   },
   "outputs": [
    {
     "name": "stdout",
     "output_type": "stream",
     "text": [
      "Ans\n",
      "1. In test data 642 out of 665 : 96.54135338345866\n",
      "2. In cross validation data 516 out of  532 : 96.99248120300751\n"
     ]
    }
   ],
   "source": [
    "test_coverage=x_test[x_test['Gene'].isin(list(set(x_train['Gene'])))].shape[0]\n",
    "cv_coverage=x_cv[x_cv['Gene'].isin(list(set(x_train['Gene'])))].shape[0]\n",
    "\n",
    "print('Ans\\n1. In test data',test_coverage, 'out of',x_test.shape[0], \":\",(test_coverage/x_test.shape[0])*100)\n",
    "print('2. In cross validation data',cv_coverage, 'out of ',x_cv.shape[0],\":\" ,(cv_coverage/x_cv.shape[0])*100)"
   ]
  },
  {
   "cell_type": "markdown",
   "metadata": {},
   "source": [
    "#### CONCLUSION: Gene variable\n",
    "\n",
    "1. Log loss\n",
    "train: 0.98</br>\n",
    "cv:    1.17</br>\n",
    "test:  1.23</br>\n",
    "\n",
    "<b>Result:</b> As logloss value is less than random model.</br>\n",
    "    - gene onehotcodeencoding variable = IMPORTANT\n",
    "    \n",
    "2. Convergence/overlapping of data\n",
    "cv:   96.69</br>\n",
    "test: 96.99</br>\n",
    "\n",
    "<b>Result:</b> As test & cv data has convergence very high.</br>\n",
    "    - gene onehotcodeencoding variable = STABLE"
   ]
  },
  {
   "cell_type": "markdown",
   "metadata": {
    "id": "GZ8dUhbbOQxN"
   },
   "source": [
    "<h3>Univariate Analysis on Variation Feature</h3>"
   ]
  },
  {
   "cell_type": "markdown",
   "metadata": {
    "id": "ZH8TKwYjOQxO"
   },
   "source": [
    "<p style=\"font-size:18px;\"> <b>Q7.</b> Variation, What type of feature is it ?</p>\n",
    "<p style=\"font-size:16px;\"><b>Ans.</b> Variation is a categorical variable </p>\n",
    "<p style=\"font-size:18px;\"> <b>Q8.</b> How many categories are there?</p>"
   ]
  },
  {
   "cell_type": "code",
   "execution_count": 25,
   "metadata": {
    "colab": {
     "base_uri": "https://localhost:8080/"
    },
    "id": "ipBDKwsoOQxP",
    "outputId": "595fe9ac-532c-4b39-e7c2-b762f4a27274"
   },
   "outputs": [
    {
     "name": "stdout",
     "output_type": "stream",
     "text": [
      "Number of Unique Variations : 1934\n",
      "Truncating_Mutations    55\n",
      "Amplification           48\n",
      "Deletion                46\n",
      "Fusions                 22\n",
      "Q61H                     3\n",
      "Q61L                     3\n",
      "Overexpression           3\n",
      "Y64A                     2\n",
      "T73I                     2\n",
      "G13D                     2\n",
      "Name: Variation, dtype: int64\n"
     ]
    }
   ],
   "source": [
    "unique_variations = x_train['Variation'].value_counts()\n",
    "print('Number of Unique Variations :', unique_variations.shape[0])\n",
    "# the top 10 variations that occured most\n",
    "print(unique_variations.head(10))"
   ]
  },
  {
   "cell_type": "code",
   "execution_count": 26,
   "metadata": {
    "colab": {
     "base_uri": "https://localhost:8080/"
    },
    "id": "K9wWS-NYOQxV",
    "outputId": "7439f3a2-b96e-459d-a337-14728cb833eb",
    "scrolled": true
   },
   "outputs": [
    {
     "name": "stdout",
     "output_type": "stream",
     "text": [
      "Ans: There are 1934 different categories of variations in the train data, and they are distibuted as follows\n"
     ]
    }
   ],
   "source": [
    "print(\"Ans: There are\", unique_variations.shape[0] ,\"different categories of variations in the train data, and they are distibuted as follows\",)"
   ]
  },
  {
   "cell_type": "code",
   "execution_count": 27,
   "metadata": {
    "colab": {
     "base_uri": "https://localhost:8080/",
     "height": 278
    },
    "id": "B7NmwrkpOQxk",
    "outputId": "5ab9cf46-ad9a-48fc-bf91-1f59d9820340"
   },
   "outputs": [
    {
     "data": {
      "image/png": "[encoded data removed]",
      "text/plain": [
       "<Figure size 432x288 with 1 Axes>"
      ]
     },
     "metadata": {
      "needs_background": "light"
     },
     "output_type": "display_data"
    }
   ],
   "source": [
    "s = sum(unique_variations.values);\n",
    "h = unique_variations.values/s;\n",
    "plt.plot(h, label=\"Histrogram of Variations\")\n",
    "plt.xlabel('Index of a Variation')\n",
    "plt.ylabel('Number of Occurances')\n",
    "plt.legend()\n",
    "plt.grid()\n",
    "plt.show()"
   ]
  },
  {
   "cell_type": "markdown",
   "metadata": {},
   "source": [
    "#### CONCLUSION: \n",
    "1. Most of the data points have frequency of 1 or 2."
   ]
  },
  {
   "cell_type": "code",
   "execution_count": 28,
   "metadata": {
    "colab": {
     "base_uri": "https://localhost:8080/",
     "height": 282
    },
    "id": "9sWC9-MXOQxo",
    "outputId": "7a8d4dfc-ff42-46a3-b363-00cb5f405540"
   },
   "outputs": [
    {
     "name": "stdout",
     "output_type": "stream",
     "text": [
      "[0.02589454 0.04849341 0.07015066 ... 0.99905838 0.99952919 1.        ]\n"
     ]
    },
    {
     "data": {
      "image/png": "[encoded data removed]",
      "text/plain": [
       "<Figure size 432x288 with 1 Axes>"
      ]
     },
     "metadata": {
      "needs_background": "light"
     },
     "output_type": "display_data"
    }
   ],
   "source": [
    "c = np.cumsum(h)\n",
    "print(c)\n",
    "plt.plot(c,label='Cumulative distribution of Variations')\n",
    "plt.grid()\n",
    "plt.legend()\n",
    "plt.show()"
   ]
  },
  {
   "cell_type": "markdown",
   "metadata": {},
   "source": [
    "#### CONCLUSION: \n",
    "1. 80% of variation has 1500 variations approx."
   ]
  },
  {
   "cell_type": "markdown",
   "metadata": {
    "id": "e_jKtHYZOQxt"
   },
   "source": [
    "<p style=\"font-size:18px;\"> <b>Q9.</b> How to featurize this Variation feature ?</p>\n",
    "\n",
    "<p style=\"font-size:16px;\"><b>Ans.</b>There are two ways we can featurize this variable\n",
    "check out this video: https://www.appliedaicourse.com/course/applied-ai-course-online/lessons/handling-categorical-and-numerical-features/\n",
    "<ol><li>One hot Encoding</li><li>Response coding</li></ol></p>\n",
    "<p> We will be using both these methods to featurize the Variation Feature </p>"
   ]
  },
  {
   "cell_type": "code",
   "execution_count": 29,
   "metadata": {
    "id": "3FG82Rp2OQxt"
   },
   "outputs": [],
   "source": [
    "# alpha is used for laplace smoothing\n",
    "alpha = 1\n",
    "# train gene feature\n",
    "train_variation_feature_responseCoding = np.array(get_gene_variation_feature(alpha, \"Variation\", x_train))\n",
    "# test gene feature\n",
    "test_variation_feature_responseCoding = np.array(get_gene_variation_feature(alpha, \"Variation\", x_test))\n",
    "# cross validation gene feature\n",
    "cv_variation_feature_responseCoding = np.array(get_gene_variation_feature(alpha, \"Variation\", x_cv))"
   ]
  },
  {
   "cell_type": "code",
   "execution_count": 30,
   "metadata": {
    "colab": {
     "base_uri": "https://localhost:8080/"
    },
    "id": "FETgZxHEOQxw",
    "outputId": "a89db79d-d4b3-4121-ad60-f0acc1f8faf1"
   },
   "outputs": [
    {
     "name": "stdout",
     "output_type": "stream",
     "text": [
      "train_variation_feature_responseCoding is a converted feature using the response coding method. The shape of Variation feature: (2124, 9)\n"
     ]
    }
   ],
   "source": [
    "print(\"train_variation_feature_responseCoding is a converted feature using the response coding method. The shape of Variation feature:\", train_variation_feature_responseCoding.shape)"
   ]
  },
  {
   "cell_type": "code",
   "execution_count": 31,
   "metadata": {
    "id": "ruAYi3HwOQxy"
   },
   "outputs": [
    {
     "name": "stdout",
     "output_type": "stream",
     "text": [
      "train_variation_feature_onehotEncoded is converted feature using the onne-hot encoding method. The shape of Variation feature: (2124, 1963)\n"
     ]
    }
   ],
   "source": [
    "# one-hot encoding of variation feature.\n",
    "variation_vectorizer = CountVectorizer()\n",
    "train_variation_feature_onehotCoding = variation_vectorizer.fit_transform(x_train['Variation'])\n",
    "test_variation_feature_onehotCoding = variation_vectorizer.transform(x_test['Variation'])\n",
    "cv_variation_feature_onehotCoding = variation_vectorizer.transform(x_cv['Variation'])\n",
    "\n",
    "# Ans\n",
    "print(\"train_variation_feature_onehotEncoded is converted feature using the onne-hot encoding method. The shape of Variation feature:\", train_variation_feature_onehotCoding.shape)"
   ]
  },
  {
   "cell_type": "markdown",
   "metadata": {
    "id": "hhg1JfPtOQx7"
   },
   "source": [
    "<p style=\"font-size:18px;\"> <b>Q10.</b> How good is this Variation feature  in predicting y_i?</p>"
   ]
  },
  {
   "cell_type": "markdown",
   "metadata": {
    "id": "1zjZ4FBNOQx9"
   },
   "source": [
    "Let's build a model just like the earlier!"
   ]
  },
  {
   "cell_type": "code",
   "execution_count": 32,
   "metadata": {
    "colab": {
     "base_uri": "https://localhost:8080/",
     "height": 450
    },
    "id": "RDa2yRKfOQx9",
    "outputId": "dc1cff62-56d5-4bde-c4c0-c9d77348b631"
   },
   "outputs": [
    {
     "name": "stdout",
     "output_type": "stream",
     "text": [
      "For values of alpha =  1e-05 The log loss is: 1.712129944889846\n",
      "For values of alpha =  0.0001 The log loss is: 1.7028606233407604\n",
      "For values of alpha =  0.001 The log loss is: 1.706001323101524\n",
      "For values of alpha =  0.01 The log loss is: 1.7172263700092774\n",
      "For values of alpha =  0.1 The log loss is: 1.7221457329963519\n",
      "For values of alpha =  1 The log loss is: 1.7248843229411972\n"
     ]
    },
    {
     "data": {
      "image/png": "[encoded data removed]",
      "text/plain": [
       "<Figure size 432x288 with 1 Axes>"
      ]
     },
     "metadata": {
      "needs_background": "light"
     },
     "output_type": "display_data"
    },
    {
     "name": "stdout",
     "output_type": "stream",
     "text": [
      "For values of best alpha =  0.0001 The train log loss is: 0.6596237597663619\n",
      "For values of best alpha =  0.0001 The cross validation log loss is: 1.7028606233407604\n",
      "For values of best alpha =  0.0001 The test log loss is: 1.6909003854770484\n"
     ]
    }
   ],
   "source": [
    "alpha = [10 ** x for x in range(-5, 1)]\n",
    "\n",
    "# read more about SGDClassifier() at http://scikit-learn.org/stable/modules/generated/sklearn.linear_model.SGDClassifier.html\n",
    "# ------------------------------\n",
    "# default parameters\n",
    "# SGDClassifier(loss=’hinge’, penalty=’l2’, alpha=0.0001, l1_ratio=0.15, fit_intercept=True, max_iter=None, tol=None, \n",
    "# shuffle=True, verbose=0, epsilon=0.1, n_jobs=1, random_state=None, learning_rate=’optimal’, eta0=0.0, power_t=0.5, \n",
    "# class_weight=None, warm_start=False, average=False, n_iter=None)\n",
    "\n",
    "# some of methods\n",
    "# fit(X, y[, coef_init, intercept_init, …])\tFit linear model with Stochastic Gradient Descent.\n",
    "# predict(X)\tPredict class labels for samples in X.\n",
    "\n",
    "#-------------------------------\n",
    "# video link: \n",
    "#------------------------------\n",
    "\n",
    "# Logistics regression: loss = sigmoid\n",
    "cv_log_error_array=[]\n",
    "for i in alpha:\n",
    "    clf = SGDClassifier(alpha=i, penalty='l2', loss='log', random_state=42)\n",
    "    clf.fit(train_variation_feature_onehotCoding, y_train)\n",
    "    \n",
    "    sig_clf = CalibratedClassifierCV(clf, method=\"sigmoid\")\n",
    "    sig_clf.fit(train_variation_feature_onehotCoding, y_train)\n",
    "    predict_y = sig_clf.predict_proba(cv_variation_feature_onehotCoding)\n",
    "    \n",
    "    cv_log_error_array.append(log_loss(y_cv, predict_y, labels=clf.classes_, eps=1e-15))\n",
    "    print('For values of alpha = ', i, \"The log loss is:\",log_loss(y_cv, predict_y, labels=clf.classes_, eps=1e-15))\n",
    "\n",
    "fig, ax = plt.subplots()\n",
    "ax.plot(alpha, cv_log_error_array,c='g')\n",
    "for i, txt in enumerate(np.round(cv_log_error_array,3)):\n",
    "    ax.annotate((alpha[i],np.round(txt,3)), (alpha[i],cv_log_error_array[i]))\n",
    "plt.grid()\n",
    "plt.title(\"Cross Validation Error for each alpha\")\n",
    "plt.xlabel(\"Alpha i's\")\n",
    "plt.ylabel(\"Error measure\")\n",
    "plt.show()\n",
    "\n",
    "\n",
    "best_alpha = np.argmin(cv_log_error_array)\n",
    "clf = SGDClassifier(alpha=alpha[best_alpha], penalty='l2', loss='log', random_state=42)\n",
    "clf.fit(train_variation_feature_onehotCoding, y_train)\n",
    "sig_clf = CalibratedClassifierCV(clf, method=\"sigmoid\")\n",
    "sig_clf.fit(train_variation_feature_onehotCoding, y_train)\n",
    "\n",
    "predict_y = sig_clf.predict_proba(train_variation_feature_onehotCoding)\n",
    "print('For values of best alpha = ', alpha[best_alpha], \"The train log loss is:\",log_loss(y_train, predict_y, labels=clf.classes_, eps=1e-15))\n",
    "predict_y = sig_clf.predict_proba(cv_variation_feature_onehotCoding)\n",
    "print('For values of best alpha = ', alpha[best_alpha], \"The cross validation log loss is:\",log_loss(y_cv, predict_y, labels=clf.classes_, eps=1e-15))\n",
    "predict_y = sig_clf.predict_proba(test_variation_feature_onehotCoding)\n",
    "print('For values of best alpha = ', alpha[best_alpha], \"The test log loss is:\",log_loss(y_test, predict_y, labels=clf.classes_, eps=1e-15))\n"
   ]
  },
  {
   "cell_type": "markdown",
   "metadata": {
    "id": "gO-gq3cFOQyB"
   },
   "source": [
    "<p style=\"font-size:18px;\"> <b>Q11.</b> Is the Variation feature stable across all the data sets (Test, Train, Cross validation)?</p>\n",
    "<p style=\"font-size:16px;\"> <b>Ans.</b> Not sure! But lets be very sure using the below analysis. </p>"
   ]
  },
  {
   "cell_type": "code",
   "execution_count": 33,
   "metadata": {
    "colab": {
     "base_uri": "https://localhost:8080/"
    },
    "id": "pBZ5v2yBOQyB",
    "outputId": "808cca42-22a9-4c01-f212-05b11952f47c",
    "scrolled": true
   },
   "outputs": [
    {
     "name": "stdout",
     "output_type": "stream",
     "text": [
      "Q12. How many data points are covered by total  1934  variation in test and cross validation data sets?\n",
      "Ans\n",
      "1. In test data 76 out of 665 : 11.428571428571429\n",
      "2. In cross validation data 52 out of  532 : 9.774436090225564\n"
     ]
    }
   ],
   "source": [
    "print(\"Q12. How many data points are covered by total \", unique_variations.shape[0], \" variation in test and cross validation data sets?\")\n",
    "test_coverage=x_test[x_test['Variation'].isin(list(set(x_train['Variation'])))].shape[0]\n",
    "cv_coverage=x_cv[x_cv['Variation'].isin(list(set(x_train['Variation'])))].shape[0]\n",
    "print('Ans\\n1. In test data',test_coverage, 'out of',x_test.shape[0], \":\",(test_coverage/x_test.shape[0])*100)\n",
    "print('2. In cross validation data',cv_coverage, 'out of ',x_cv.shape[0],\":\" ,(cv_coverage/x_cv.shape[0])*100)"
   ]
  },
  {
   "cell_type": "markdown",
   "metadata": {},
   "source": [
    "#### CONCLUSION: Variation variable\n",
    "\n",
    "1. Log loss\n",
    "train: 0.70</br>\n",
    "cv:    1.70</br>\n",
    "test:  1.69</br>\n",
    "\n",
    "<b>Result:</b> As logloss value is less than random model but fluctions in all datasets.</br>\n",
    "    - gene onehotcodeencoding variable = IMPORTANT\n",
    "    \n",
    "2. Convergence/overlapping of data</br>\n",
    "cv:   10.82</br>\n",
    "test:  10.90</br>\n",
    "\n",
    "<b>Result:</b> As test & cv data has convergence very high.</br>\n",
    "    - gene onehotcodeencoding variable = LESS STABLE"
   ]
  },
  {
   "cell_type": "markdown",
   "metadata": {
    "id": "J87b3_pEOQyE"
   },
   "source": [
    "<h3>Univariate Analysis on Text Feature</h3>"
   ]
  },
  {
   "cell_type": "markdown",
   "metadata": {
    "id": "Go1Lmf9tOQyF"
   },
   "source": [
    "1. How many unique words are present in train data?\n",
    "2. How are word frequencies distributed?\n",
    "3. How to featurize text field?\n",
    "4. Is the text feature useful in predicitng y_i?\n",
    "5. Is the text feature stable across train, test and CV datasets?"
   ]
  },
  {
   "cell_type": "code",
   "execution_count": 34,
   "metadata": {
    "id": "xV59LrzTOQyF"
   },
   "outputs": [],
   "source": [
    "# cls_text is a data frame\n",
    "# for every row in data fram consider the 'TEXT'\n",
    "# split the words by space\n",
    "# make a dict with those words\n",
    "# increment its count whenever we see that word\n",
    "\n",
    "def extract_dictionary_paddle(cls_text):\n",
    "    dictionary = defaultdict(int)\n",
    "    for index, row in cls_text.iterrows():\n",
    "        for word in row['TEXT'].split():\n",
    "            dictionary[word] +=1\n",
    "    return dictionary"
   ]
  },
  {
   "cell_type": "code",
   "execution_count": 35,
   "metadata": {
    "id": "p8Y15a_1OQyH"
   },
   "outputs": [],
   "source": [
    "import math\n",
    "#https://stackoverflow.com/a/1602964\n",
    "def get_text_responsecoding(df):\n",
    "    text_feature_responseCoding = np.zeros((df.shape[0],9))\n",
    "    for i in range(0,9):\n",
    "        row_index = 0\n",
    "        for index, row in df.iterrows():\n",
    "            sum_prob = 0\n",
    "            for word in row['TEXT'].split():\n",
    "                sum_prob += math.log(((dict_list[i].get(word,0)+10 )/(total_dict.get(word,0)+90)))\n",
    "            text_feature_responseCoding[row_index][i] = math.exp(sum_prob/len(row['TEXT'].split()))\n",
    "            row_index += 1\n",
    "    return text_feature_responseCoding"
   ]
  },
  {
   "cell_type": "code",
   "execution_count": 36,
   "metadata": {
    "colab": {
     "base_uri": "https://localhost:8080/"
    },
    "id": "FnAaW3teOQyL",
    "outputId": "1993703c-78d8-488f-82b3-159dd58868d9"
   },
   "outputs": [
    {
     "name": "stdout",
     "output_type": "stream",
     "text": [
      "Total number of unique words in train data : 53251\n"
     ]
    }
   ],
   "source": [
    "# building a CountVectorizer with all the words that occured minimum 3 times in train data\n",
    "# One hotcode encoding == BOW in nlp \n",
    "text_vectorizer = CountVectorizer(min_df=3)\n",
    "train_text_feature_onehotCoding = text_vectorizer.fit_transform(x_train['TEXT'])\n",
    "# getting all the feature names (words)\n",
    "train_text_features= text_vectorizer.get_feature_names()\n",
    "\n",
    "# train_text_feature_onehotCoding.sum(axis=0).A1 will sum every row and returns (1*number of features) vector\n",
    "train_text_fea_counts = train_text_feature_onehotCoding.sum(axis=0).A1\n",
    "\n",
    "# zip(list(text_features),text_fea_counts) will zip a word with its number of times it occured\n",
    "text_fea_dict = dict(zip(list(train_text_features),train_text_fea_counts))\n",
    "\n",
    "print(\"Total number of unique words in train data :\", len(train_text_features))"
   ]
  },
  {
   "cell_type": "code",
   "execution_count": 37,
   "metadata": {
    "id": "lO_CtltnOQyR"
   },
   "outputs": [],
   "source": [
    "dict_list = []\n",
    "# dict_list =[] contains 9 dictoinaries each corresponds to a class\n",
    "for i in range(1,10):\n",
    "    cls_text = x_train[x_train['Class']==i]\n",
    "    # build a word dict based on the words in that class\n",
    "    dict_list.append(extract_dictionary_paddle(cls_text))\n",
    "    # append it to dict_list\n",
    "\n",
    "# dict_list[i] is build on i'th  class text data\n",
    "# total_dict is buid on whole training text data\n",
    "total_dict = extract_dictionary_paddle(x_train)\n",
    "\n",
    "confuse_array = []\n",
    "for i in train_text_features:\n",
    "    ratios = []\n",
    "    max_val = -1\n",
    "    for j in range(0,9):\n",
    "        ratios.append((dict_list[j][i]+10 )/(total_dict[i]+90))\n",
    "    confuse_array.append(ratios)\n",
    "confuse_array = np.array(confuse_array)"
   ]
  },
  {
   "cell_type": "code",
   "execution_count": 38,
   "metadata": {
    "id": "uaI8RUu0OQyU"
   },
   "outputs": [],
   "source": [
    "#response coding of text features\n",
    "train_text_feature_responseCoding  = get_text_responsecoding(x_train)\n",
    "test_text_feature_responseCoding  = get_text_responsecoding(x_test)\n",
    "cv_text_feature_responseCoding  = get_text_responsecoding(x_cv)"
   ]
  },
  {
   "cell_type": "code",
   "execution_count": 39,
   "metadata": {
    "id": "ZYqYSUjoOQyV"
   },
   "outputs": [],
   "source": [
    "# https://stackoverflow.com/a/16202486\n",
    "# we convert each row values such that they sum to 1  \n",
    "train_text_feature_responseCoding = (train_text_feature_responseCoding.T/train_text_feature_responseCoding.sum(axis=1)).T\n",
    "test_text_feature_responseCoding = (test_text_feature_responseCoding.T/test_text_feature_responseCoding.sum(axis=1)).T\n",
    "cv_text_feature_responseCoding = (cv_text_feature_responseCoding.T/cv_text_feature_responseCoding.sum(axis=1)).T"
   ]
  },
  {
   "cell_type": "code",
   "execution_count": 40,
   "metadata": {
    "id": "3UEk7cxGOQyX"
   },
   "outputs": [],
   "source": [
    "# don't forget to normalize every feature\n",
    "train_text_feature_onehotCoding = normalize(train_text_feature_onehotCoding, axis=0)\n",
    "\n",
    "# we use the same vectorizer that was trained on train data\n",
    "test_text_feature_onehotCoding = text_vectorizer.transform(x_test['TEXT'])\n",
    "# don't forget to normalize every feature\n",
    "test_text_feature_onehotCoding = normalize(test_text_feature_onehotCoding, axis=0)\n",
    "\n",
    "# we use the same vectorizer that was trained on train data\n",
    "cv_text_feature_onehotCoding = text_vectorizer.transform(x_cv['TEXT'])\n",
    "# don't forget to normalize every feature\n",
    "cv_text_feature_onehotCoding = normalize(cv_text_feature_onehotCoding, axis=0)"
   ]
  },
  {
   "cell_type": "code",
   "execution_count": 41,
   "metadata": {
    "id": "Ox21AjDkOQyZ"
   },
   "outputs": [],
   "source": [
    "#https://stackoverflow.com/a/2258273/4084039\n",
    "sorted_text_fea_dict = dict(sorted(text_fea_dict.items(), key=lambda x: x[1] , reverse=True))\n",
    "sorted_text_occur = np.array(list(sorted_text_fea_dict.values()))"
   ]
  },
  {
   "cell_type": "code",
   "execution_count": 42,
   "metadata": {
    "colab": {
     "base_uri": "https://localhost:8080/"
    },
    "id": "gT0OrfaTOQyb",
    "outputId": "a049dcb6-153e-4127-b87b-f8f8ecf1c7a3"
   },
   "outputs": [
    {
     "name": "stdout",
     "output_type": "stream",
     "text": [
      "Counter({153988: 1, 120068: 1, 81592: 1, 69603: 1, 68591: 1})\n"
     ]
    }
   ],
   "source": [
    "# Number of words for a given frequency.\n",
    "print(Counter(sorted_text_occur[:5]))"
   ]
  },
  {
   "cell_type": "code",
   "execution_count": 43,
   "metadata": {
    "colab": {
     "base_uri": "https://localhost:8080/",
     "height": 450
    },
    "id": "1sys81mqOQyh",
    "outputId": "a1ef3bd7-ee00-4411-af79-97ce6c61c90b"
   },
   "outputs": [
    {
     "name": "stdout",
     "output_type": "stream",
     "text": [
      "For values of alpha =  1e-05 The log loss is: 1.313994049499019\n",
      "For values of alpha =  0.0001 The log loss is: 1.1934350915927276\n",
      "For values of alpha =  0.001 The log loss is: 1.2110897141561776\n",
      "For values of alpha =  0.01 The log loss is: 1.3244319529143245\n",
      "For values of alpha =  0.1 The log loss is: 1.471167170822617\n",
      "For values of alpha =  1 The log loss is: 1.640845002338313\n"
     ]
    },
    {
     "data": {
      "image/png": "[encoded data removed]",
      "text/plain": [
       "<Figure size 432x288 with 1 Axes>"
      ]
     },
     "metadata": {
      "needs_background": "light"
     },
     "output_type": "display_data"
    },
    {
     "name": "stdout",
     "output_type": "stream",
     "text": [
      "For values of best alpha =  0.0001 The train log loss is: 0.653073755418282\n",
      "For values of best alpha =  0.0001 The cross validation log loss is: 1.1934350915927276\n",
      "For values of best alpha =  0.0001 The test log loss is: 1.1662814691722572\n"
     ]
    }
   ],
   "source": [
    "# Train a Logistic regression+Calibration model using text features whicha re on-hot encoded\n",
    "alpha = [10 ** x for x in range(-5, 1)]\n",
    "\n",
    "# read more about SGDClassifier() at http://scikit-learn.org/stable/modules/generated/sklearn.linear_model.SGDClassifier.html\n",
    "# ------------------------------\n",
    "# default parameters\n",
    "# SGDClassifier(loss=’hinge’, penalty=’l2’, alpha=0.0001, l1_ratio=0.15, fit_intercept=True, max_iter=None, tol=None, \n",
    "# shuffle=True, verbose=0, epsilon=0.1, n_jobs=1, random_state=None, learning_rate=’optimal’, eta0=0.0, power_t=0.5, \n",
    "# class_weight=None, warm_start=False, average=False, n_iter=None)\n",
    "\n",
    "# some of methods\n",
    "# fit(X, y[, coef_init, intercept_init, …])\tFit linear model with Stochastic Gradient Descent.\n",
    "# predict(X)\tPredict class labels for samples in X.\n",
    "\n",
    "#-------------------------------\n",
    "# video link: \n",
    "#------------------------------\n",
    "\n",
    "# logistic regression\n",
    "cv_log_error_array=[]\n",
    "for i in alpha:\n",
    "    clf = SGDClassifier(alpha=i, penalty='l2', loss='log', random_state=42)\n",
    "    clf.fit(train_text_feature_onehotCoding, y_train)\n",
    "    \n",
    "    sig_clf = CalibratedClassifierCV(clf, method=\"sigmoid\")\n",
    "    sig_clf.fit(train_text_feature_onehotCoding, y_train)\n",
    "    predict_y = sig_clf.predict_proba(cv_text_feature_onehotCoding)\n",
    "    cv_log_error_array.append(log_loss(y_cv, predict_y, labels=clf.classes_, eps=1e-15))\n",
    "    print('For values of alpha = ', i, \"The log loss is:\",log_loss(y_cv, predict_y, labels=clf.classes_, eps=1e-15))\n",
    "\n",
    "fig, ax = plt.subplots()\n",
    "ax.plot(alpha, cv_log_error_array,c='g')\n",
    "for i, txt in enumerate(np.round(cv_log_error_array,3)):\n",
    "    ax.annotate((alpha[i],np.round(txt,3)), (alpha[i],cv_log_error_array[i]))\n",
    "plt.grid()\n",
    "plt.title(\"Cross Validation Error for each alpha\")\n",
    "plt.xlabel(\"Alpha i's\")\n",
    "plt.ylabel(\"Error measure\")\n",
    "plt.show()\n",
    "\n",
    "\n",
    "best_alpha = np.argmin(cv_log_error_array)\n",
    "clf = SGDClassifier(alpha=alpha[best_alpha], penalty='l2', loss='log', random_state=42)\n",
    "clf.fit(train_text_feature_onehotCoding, y_train)\n",
    "sig_clf = CalibratedClassifierCV(clf, method=\"sigmoid\")\n",
    "sig_clf.fit(train_text_feature_onehotCoding, y_train)\n",
    "\n",
    "predict_y = sig_clf.predict_proba(train_text_feature_onehotCoding)\n",
    "print('For values of best alpha = ', alpha[best_alpha], \"The train log loss is:\",log_loss(y_train, predict_y, labels=clf.classes_, eps=1e-15))\n",
    "predict_y = sig_clf.predict_proba(cv_text_feature_onehotCoding)\n",
    "print('For values of best alpha = ', alpha[best_alpha], \"The cross validation log loss is:\",log_loss(y_cv, predict_y, labels=clf.classes_, eps=1e-15))\n",
    "predict_y = sig_clf.predict_proba(test_text_feature_onehotCoding)\n",
    "print('For values of best alpha = ', alpha[best_alpha], \"The test log loss is:\",log_loss(y_test, predict_y, labels=clf.classes_, eps=1e-15))"
   ]
  },
  {
   "cell_type": "markdown",
   "metadata": {
    "id": "s6AqmMa0OQym"
   },
   "source": [
    "<p style=\"font-size:18px;\"> <b>Q.</b> Is the Text feature stable across all the data sets (Test, Train, Cross validation)?</p>\n",
    "<p style=\"font-size:16px;\"> <b>Ans.</b> Yes, it seems like! </p>"
   ]
  },
  {
   "cell_type": "code",
   "execution_count": 44,
   "metadata": {
    "id": "p_cUhp-ZOQyn"
   },
   "outputs": [],
   "source": [
    "def get_intersec_text(df):\n",
    "    df_text_vec = CountVectorizer(min_df=3)\n",
    "    df_text_fea = df_text_vec.fit_transform(df['TEXT'])\n",
    "    df_text_features = df_text_vec.get_feature_names()\n",
    "\n",
    "    df_text_fea_counts = df_text_fea.sum(axis=0).A1\n",
    "    df_text_fea_dict = dict(zip(list(df_text_features),df_text_fea_counts))\n",
    "    len1 = len(set(df_text_features))\n",
    "    len2 = len(set(train_text_features) & set(df_text_features))\n",
    "    return len1,len2"
   ]
  },
  {
   "cell_type": "code",
   "execution_count": 45,
   "metadata": {
    "colab": {
     "base_uri": "https://localhost:8080/"
    },
    "id": "yjNmkGN9OQyo",
    "outputId": "40b904ce-5d16-4e62-a3d0-2951841a2c4c"
   },
   "outputs": [
    {
     "name": "stdout",
     "output_type": "stream",
     "text": [
      "95.641 % of word of test data appeared in train data\n",
      "97.654 % of word of Cross Validation appeared in train data\n"
     ]
    }
   ],
   "source": [
    "len1,len2 = get_intersec_text(x_test)\n",
    "print(np.round((len2/len1)*100, 3), \"% of word of test data appeared in train data\")\n",
    "len1,len2 = get_intersec_text(x_cv)\n",
    "print(np.round((len2/len1)*100, 3), \"% of word of Cross Validation appeared in train data\")"
   ]
  },
  {
   "cell_type": "markdown",
   "metadata": {},
   "source": [
    "#### CONCLUSION: text variable\n",
    "\n",
    "1. Log loss</br>\n",
    "train: 0.655</br>\n",
    "cv:    1.145</br>\n",
    "test:  1.075</br>\n",
    "\n",
    "<b>Result:</b> As logloss value is less than random model but fluctions in all datasets.</br>\n",
    "    - gene onehotcodeencoding variable = IMPORTANT</br>\n",
    "    \n",
    "2. Convergence/overlapping of data</br>\n",
    "cv:   96.415</br>\n",
    "test: 97.764</br>\n",
    "\n",
    "<b>Result:</b> As test & cv data has convergence very high.</br>\n",
    "    - gene onehotcodeencoding variable = STABLE"
   ]
  },
  {
   "cell_type": "markdown",
   "metadata": {},
   "source": [
    "#### CONCLUSION: All variables\n",
    "\n",
    "1. Log loss -> To check imp of variable\n",
    "\n",
    "|            | gene   | variation   | text   |\n",
    "|------------|--------|-------------|--------|\n",
    "| train      | 0.98   | 0.70        | 0.65   |\n",
    "| cv         | 1.17   | 1.70        | 1.14   |\n",
    "| test       | 1.23   | 1.69        | 1.07   |\n",
    "| Importance | HIGH   | LESS        | HIGH   |\n",
    "\n",
    "2. Data convergence(overlap of data) -> To check stability of variables\n",
    "\n",
    "|           | cv    | test  | convergence | Stability |\n",
    "|-----------|-------|-------|-------------|-----------|\n",
    "| gene      | 96.69 | 96.99 | v. high     | V. HIGH   |\n",
    "| variation | 10.82 | 10.90 | v. low      | L. LOW    |\n",
    "| text      | 96.41 | 97.76 | v. high     | V. HIGH   |\n",
    "\n",
    "\n",
    "<b>Result</b>:\n",
    "\n",
    "| variables | Importance order |\n",
    "|-----------|------------------|\n",
    "|    text   |         1        |\n",
    "|    gene   |         2        |\n",
    "| variation |         3        |"
   ]
  },
  {
   "cell_type": "markdown",
   "metadata": {},
   "source": [
    "<p style=\"font-size:24px;text-align:Center\"> <b>Stacking the three types of features </b><p>"
   ]
  },
  {
   "cell_type": "code",
   "execution_count": 51,
   "metadata": {},
   "outputs": [
    {
     "name": "stdout",
     "output_type": "stream",
     "text": [
      "One hot encoding features :\n",
      "(number of data points * number of features) in train data =  (2124, 55446)\n",
      "(number of data points * number of features) in test data =  (665, 55446)\n",
      "(number of data points * number of features) in cross validation data = (532, 55446)\n"
     ]
    }
   ],
   "source": [
    "# merging gene, variance and text features\n",
    "\n",
    "# building train, test and cross validation data sets\n",
    "# a = [[1, 2], \n",
    "#      [3, 4]]\n",
    "# b = [[4, 5], \n",
    "#      [6, 7]]\n",
    "# hstack(a, b) = [[1, 2, 4, 5],\n",
    "#                [ 3, 4, 6, 7]]\n",
    "\n",
    "train_gene_var_onehotCoding = hstack((train_gene_feature_onehotCoding,train_variation_feature_onehotCoding))\n",
    "test_gene_var_onehotCoding = hstack((test_gene_feature_onehotCoding,test_variation_feature_onehotCoding))\n",
    "cv_gene_var_onehotCoding = hstack((cv_gene_feature_onehotCoding,cv_variation_feature_onehotCoding))\n",
    "\n",
    "train_x_onehotCoding = hstack((train_gene_var_onehotCoding, train_text_feature_onehotCoding)).tocsr()\n",
    "train_y = np.array(list(x_train['Class']))\n",
    "\n",
    "test_x_onehotCoding = hstack((test_gene_var_onehotCoding, test_text_feature_onehotCoding)).tocsr()\n",
    "test_y = np.array(list(x_test['Class']))\n",
    "\n",
    "cv_x_onehotCoding = hstack((cv_gene_var_onehotCoding, cv_text_feature_onehotCoding)).tocsr()\n",
    "cv_y = np.array(list(x_cv['Class']))\n",
    "\n",
    "print(\"One hot encoding features :\")\n",
    "print(\"(number of data points * number of features) in train data = \", train_x_onehotCoding.shape)\n",
    "print(\"(number of data points * number of features) in test data = \", test_x_onehotCoding.shape)\n",
    "print(\"(number of data points * number of features) in cross validation data =\", cv_x_onehotCoding.shape)"
   ]
  },
  {
   "cell_type": "code",
   "execution_count": 52,
   "metadata": {},
   "outputs": [
    {
     "name": "stdout",
     "output_type": "stream",
     "text": [
      " Response encoding features :\n",
      "(number of data points * number of features) in train data =  (2124, 27)\n",
      "(number of data points * number of features) in test data =  (665, 27)\n",
      "(number of data points * number of features) in cross validation data = (532, 27)\n"
     ]
    }
   ],
   "source": [
    "train_gene_var_responseCoding = np.hstack((train_gene_feature_responseCoding,train_variation_feature_responseCoding))\n",
    "test_gene_var_responseCoding = np.hstack((test_gene_feature_responseCoding,test_variation_feature_responseCoding))\n",
    "cv_gene_var_responseCoding = np.hstack((cv_gene_feature_responseCoding,cv_variation_feature_responseCoding))\n",
    "\n",
    "train_x_responseCoding = np.hstack((train_gene_var_responseCoding, train_text_feature_responseCoding))\n",
    "test_x_responseCoding = np.hstack((test_gene_var_responseCoding, test_text_feature_responseCoding))\n",
    "cv_x_responseCoding = np.hstack((cv_gene_var_responseCoding, cv_text_feature_responseCoding))\n",
    "\n",
    "print(\" Response encoding features :\")\n",
    "print(\"(number of data points * number of features) in train data = \", train_x_responseCoding.shape)\n",
    "print(\"(number of data points * number of features) in test data = \", test_x_responseCoding.shape)\n",
    "print(\"(number of data points * number of features) in cross validation data =\", cv_x_responseCoding.shape)"
   ]
  },
  {
   "cell_type": "code",
   "execution_count": 56,
   "metadata": {},
   "outputs": [
    {
     "data": {
      "text/plain": [
       "['data/03_label/01_cv_y.joblib']"
      ]
     },
     "execution_count": 56,
     "metadata": {},
     "output_type": "execute_result"
    }
   ],
   "source": [
    "# Onehotcode\n",
    "# Train \n",
    "joblib.dump(train_x_onehotCoding, \"data/01_hotcodeencoding/01_train_x.joblib\")\n",
    "# Test\n",
    "joblib.dump(test_x_onehotCoding, \"data/01_hotcodeencoding/02_test_x.joblib\")\n",
    "# CV\n",
    "joblib.dump(cv_x_onehotCoding, \"data/01_hotcodeencoding/03_cv_x.joblib\")\n",
    "\n",
    "# Response\n",
    "# Train \n",
    "joblib.dump(train_x_responseCoding, \"data/02_responsecoding/01_train_x.joblib\")\n",
    "# Test\n",
    "joblib.dump(test_x_responseCoding, \"data/02_responsecoding/02_test_x.joblib\")\n",
    "# CV\n",
    "joblib.dump(cv_x_responseCoding, \"data/02_responsecoding/03_cv_x.joblib\")\n",
    "\n",
    "\n",
    "# Label\n",
    "# Train\n",
    "joblib.dump(train_y, \"data/03_label/01_train_y.joblib\")\n",
    "# Test\n",
    "joblib.dump(test_y, \"data/03_label/02_test_y.joblib\")\n",
    "# CV\n",
    "joblib.dump(cv_y, \"data/03_label/01_cv_y.joblib\")"
   ]
  },
  {
   "cell_type": "code",
   "execution_count": null,
   "metadata": {},
   "outputs": [],
   "source": []
  }
 ],
 "metadata": {
  "colab": {
   "collapsed_sections": [],
   "name": "PersonalizedCancerDiagnosis.ipynb",
   "provenance": []
  },
  "kernelspec": {
   "display_name": "Python 3",
   "language": "python",
   "name": "python3"
  },
  "language_info": {
   "codemirror_mode": {
    "name": "ipython",
    "version": 3
   },
   "file_extension": ".py",
   "mimetype": "text/x-python",
   "name": "python",
   "nbconvert_exporter": "python",
   "pygments_lexer": "ipython3",
   "version": "3.8.8"
  }
 },
 "nbformat": 4,
 "nbformat_minor": 4
}
